{
 "cells": [
  {
   "cell_type": "markdown",
   "metadata": {},
   "source": [
    "## Ejecutar este notebook en Google Colab o ejecutar la celda de abajo (para virtual env) y descargar el dataset \"book\"  (descomentarlo)"
   ]
  },
  {
   "cell_type": "code",
   "execution_count": 1,
   "metadata": {},
   "outputs": [
    {
     "data": {
      "text/plain": [
       "'C:\\\\Users\\\\sumit\\\\OneDrive\\\\Escritorio\\\\Universidad\\\\P_Curriculares'"
      ]
     },
     "execution_count": 1,
     "metadata": {},
     "output_type": "execute_result"
    }
   ],
   "source": [
    "import sys\n",
    "sys.path.append('C:/Users/sumit/OneDrive/Escritorio/Universidad/P_Curriculares/venv/Lib/site-packages')\n",
    "\n",
    "%pwd"
   ]
  },
  {
   "cell_type": "markdown",
   "metadata": {
    "id": "DRi6kHk8ECaT"
   },
   "source": [
    "# Configuración inicial\n",
    "\n",
    "* En este notebook vamos a descargar el dataset `book` que contiene muchos libros en ingles en formato de texto tokenizado, de los cuales vamos a hacer procesamiento.\n",
    "\n",
    "Esta vez emplearemos técnicas de **estadística** para el procesamiento de textos del dataset."
   ]
  },
  {
   "cell_type": "code",
   "execution_count": 4,
   "metadata": {
    "colab": {
     "base_uri": "https://localhost:8080/"
    },
    "executionInfo": {
     "elapsed": 19075,
     "status": "ok",
     "timestamp": 1628593074356,
     "user": {
      "displayName": "Sumit Kumar Jethani Jethani",
      "photoUrl": "",
      "userId": "10176846141695721990"
     },
     "user_tz": -60
    },
    "id": "DLeLwV_ND0Pq",
    "outputId": "3472a0e5-e343-42de-8c57-b2a5325a7c7d"
   },
   "outputs": [
    {
     "name": "stderr",
     "output_type": "stream",
     "text": [
      "[nltk_data] Downloading collection 'book'\n",
      "[nltk_data]    | \n",
      "[nltk_data]    | Downloading package abc to\n",
      "[nltk_data]    |     C:\\Users\\sumit\\AppData\\Roaming\\nltk_data...\n",
      "[nltk_data]    |   Unzipping corpora\\abc.zip.\n",
      "[nltk_data]    | Downloading package brown to\n",
      "[nltk_data]    |     C:\\Users\\sumit\\AppData\\Roaming\\nltk_data...\n",
      "[nltk_data]    |   Unzipping corpora\\brown.zip.\n",
      "[nltk_data]    | Downloading package chat80 to\n",
      "[nltk_data]    |     C:\\Users\\sumit\\AppData\\Roaming\\nltk_data...\n",
      "[nltk_data]    |   Unzipping corpora\\chat80.zip.\n",
      "[nltk_data]    | Downloading package cmudict to\n",
      "[nltk_data]    |     C:\\Users\\sumit\\AppData\\Roaming\\nltk_data...\n",
      "[nltk_data]    |   Unzipping corpora\\cmudict.zip.\n",
      "[nltk_data]    | Downloading package conll2000 to\n",
      "[nltk_data]    |     C:\\Users\\sumit\\AppData\\Roaming\\nltk_data...\n",
      "[nltk_data]    |   Unzipping corpora\\conll2000.zip.\n",
      "[nltk_data]    | Downloading package conll2002 to\n",
      "[nltk_data]    |     C:\\Users\\sumit\\AppData\\Roaming\\nltk_data...\n",
      "[nltk_data]    |   Unzipping corpora\\conll2002.zip.\n",
      "[nltk_data]    | Downloading package dependency_treebank to\n",
      "[nltk_data]    |     C:\\Users\\sumit\\AppData\\Roaming\\nltk_data...\n",
      "[nltk_data]    |   Unzipping corpora\\dependency_treebank.zip.\n",
      "[nltk_data]    | Downloading package genesis to\n",
      "[nltk_data]    |     C:\\Users\\sumit\\AppData\\Roaming\\nltk_data...\n",
      "[nltk_data]    |   Unzipping corpora\\genesis.zip.\n",
      "[nltk_data]    | Downloading package gutenberg to\n",
      "[nltk_data]    |     C:\\Users\\sumit\\AppData\\Roaming\\nltk_data...\n",
      "[nltk_data]    |   Unzipping corpora\\gutenberg.zip.\n",
      "[nltk_data]    | Downloading package ieer to\n",
      "[nltk_data]    |     C:\\Users\\sumit\\AppData\\Roaming\\nltk_data...\n",
      "[nltk_data]    |   Unzipping corpora\\ieer.zip.\n",
      "[nltk_data]    | Downloading package inaugural to\n",
      "[nltk_data]    |     C:\\Users\\sumit\\AppData\\Roaming\\nltk_data...\n",
      "[nltk_data]    |   Unzipping corpora\\inaugural.zip.\n",
      "[nltk_data]    | Downloading package movie_reviews to\n",
      "[nltk_data]    |     C:\\Users\\sumit\\AppData\\Roaming\\nltk_data...\n",
      "[nltk_data]    |   Unzipping corpora\\movie_reviews.zip.\n",
      "[nltk_data]    | Downloading package nps_chat to\n",
      "[nltk_data]    |     C:\\Users\\sumit\\AppData\\Roaming\\nltk_data...\n",
      "[nltk_data]    |   Unzipping corpora\\nps_chat.zip.\n",
      "[nltk_data]    | Downloading package names to\n",
      "[nltk_data]    |     C:\\Users\\sumit\\AppData\\Roaming\\nltk_data...\n",
      "[nltk_data]    |   Unzipping corpora\\names.zip.\n",
      "[nltk_data]    | Downloading package ppattach to\n",
      "[nltk_data]    |     C:\\Users\\sumit\\AppData\\Roaming\\nltk_data...\n",
      "[nltk_data]    |   Unzipping corpora\\ppattach.zip.\n",
      "[nltk_data]    | Downloading package reuters to\n",
      "[nltk_data]    |     C:\\Users\\sumit\\AppData\\Roaming\\nltk_data...\n",
      "[nltk_data]    | Downloading package senseval to\n",
      "[nltk_data]    |     C:\\Users\\sumit\\AppData\\Roaming\\nltk_data...\n",
      "[nltk_data]    |   Unzipping corpora\\senseval.zip.\n",
      "[nltk_data]    | Downloading package state_union to\n",
      "[nltk_data]    |     C:\\Users\\sumit\\AppData\\Roaming\\nltk_data...\n",
      "[nltk_data]    |   Unzipping corpora\\state_union.zip.\n",
      "[nltk_data]    | Downloading package stopwords to\n",
      "[nltk_data]    |     C:\\Users\\sumit\\AppData\\Roaming\\nltk_data...\n",
      "[nltk_data]    |   Unzipping corpora\\stopwords.zip.\n",
      "[nltk_data]    | Downloading package swadesh to\n",
      "[nltk_data]    |     C:\\Users\\sumit\\AppData\\Roaming\\nltk_data...\n",
      "[nltk_data]    |   Unzipping corpora\\swadesh.zip.\n",
      "[nltk_data]    | Downloading package timit to\n",
      "[nltk_data]    |     C:\\Users\\sumit\\AppData\\Roaming\\nltk_data...\n",
      "[nltk_data]    |   Unzipping corpora\\timit.zip.\n",
      "[nltk_data]    | Downloading package treebank to\n",
      "[nltk_data]    |     C:\\Users\\sumit\\AppData\\Roaming\\nltk_data...\n",
      "[nltk_data]    |   Unzipping corpora\\treebank.zip.\n",
      "[nltk_data]    | Downloading package toolbox to\n",
      "[nltk_data]    |     C:\\Users\\sumit\\AppData\\Roaming\\nltk_data...\n",
      "[nltk_data]    |   Unzipping corpora\\toolbox.zip.\n",
      "[nltk_data]    | Downloading package udhr to\n",
      "[nltk_data]    |     C:\\Users\\sumit\\AppData\\Roaming\\nltk_data...\n",
      "[nltk_data]    |   Unzipping corpora\\udhr.zip.\n",
      "[nltk_data]    | Downloading package udhr2 to\n",
      "[nltk_data]    |     C:\\Users\\sumit\\AppData\\Roaming\\nltk_data...\n",
      "[nltk_data]    |   Unzipping corpora\\udhr2.zip.\n",
      "[nltk_data]    | Downloading package unicode_samples to\n",
      "[nltk_data]    |     C:\\Users\\sumit\\AppData\\Roaming\\nltk_data...\n",
      "[nltk_data]    |   Unzipping corpora\\unicode_samples.zip.\n",
      "[nltk_data]    | Downloading package webtext to\n",
      "[nltk_data]    |     C:\\Users\\sumit\\AppData\\Roaming\\nltk_data...\n",
      "[nltk_data]    |   Unzipping corpora\\webtext.zip.\n",
      "[nltk_data]    | Downloading package wordnet to\n",
      "[nltk_data]    |     C:\\Users\\sumit\\AppData\\Roaming\\nltk_data...\n",
      "[nltk_data]    |   Unzipping corpora\\wordnet.zip.\n",
      "[nltk_data]    | Downloading package wordnet_ic to\n",
      "[nltk_data]    |     C:\\Users\\sumit\\AppData\\Roaming\\nltk_data...\n",
      "[nltk_data]    |   Unzipping corpora\\wordnet_ic.zip.\n",
      "[nltk_data]    | Downloading package words to\n",
      "[nltk_data]    |     C:\\Users\\sumit\\AppData\\Roaming\\nltk_data...\n",
      "[nltk_data]    |   Unzipping corpora\\words.zip.\n",
      "[nltk_data]    | Downloading package maxent_treebank_pos_tagger to\n",
      "[nltk_data]    |     C:\\Users\\sumit\\AppData\\Roaming\\nltk_data...\n",
      "[nltk_data]    |   Package maxent_treebank_pos_tagger is already up-\n",
      "[nltk_data]    |       to-date!\n",
      "[nltk_data]    | Downloading package maxent_ne_chunker to\n",
      "[nltk_data]    |     C:\\Users\\sumit\\AppData\\Roaming\\nltk_data...\n",
      "[nltk_data]    |   Package maxent_ne_chunker is already up-to-date!\n",
      "[nltk_data]    | Downloading package universal_tagset to\n",
      "[nltk_data]    |     C:\\Users\\sumit\\AppData\\Roaming\\nltk_data...\n",
      "[nltk_data]    |   Package universal_tagset is already up-to-date!\n",
      "[nltk_data]    | Downloading package punkt to\n",
      "[nltk_data]    |     C:\\Users\\sumit\\AppData\\Roaming\\nltk_data...\n",
      "[nltk_data]    |   Package punkt is already up-to-date!\n",
      "[nltk_data]    | Downloading package book_grammars to\n",
      "[nltk_data]    |     C:\\Users\\sumit\\AppData\\Roaming\\nltk_data...\n",
      "[nltk_data]    |   Package book_grammars is already up-to-date!\n",
      "[nltk_data]    | Downloading package city_database to\n",
      "[nltk_data]    |     C:\\Users\\sumit\\AppData\\Roaming\\nltk_data...\n",
      "[nltk_data]    |   Unzipping corpora\\city_database.zip.\n",
      "[nltk_data]    | Downloading package tagsets to\n",
      "[nltk_data]    |     C:\\Users\\sumit\\AppData\\Roaming\\nltk_data...\n",
      "[nltk_data]    |   Package tagsets is already up-to-date!\n",
      "[nltk_data]    | Downloading package panlex_swadesh to\n",
      "[nltk_data]    |     C:\\Users\\sumit\\AppData\\Roaming\\nltk_data...\n",
      "[nltk_data]    | Downloading package averaged_perceptron_tagger to\n",
      "[nltk_data]    |     C:\\Users\\sumit\\AppData\\Roaming\\nltk_data...\n",
      "[nltk_data]    |   Package averaged_perceptron_tagger is already up-\n",
      "[nltk_data]    |       to-date!\n",
      "[nltk_data]    | \n",
      "[nltk_data]  Done downloading collection book\n"
     ]
    }
   ],
   "source": [
    "import nltk \n",
    "nltk.download('book')\n",
    "from nltk.book import *\n",
    "import matplotlib.pyplot as plt\n",
    "import numpy as np"
   ]
  },
  {
   "cell_type": "markdown",
   "metadata": {
    "id": "MEFQ7N_OF3W_"
   },
   "source": [
    "# Analizando un texto"
   ]
  },
  {
   "cell_type": "code",
   "execution_count": 5,
   "metadata": {
    "colab": {
     "base_uri": "https://localhost:8080/"
    },
    "executionInfo": {
     "elapsed": 274,
     "status": "ok",
     "timestamp": 1628593182635,
     "user": {
      "displayName": "Sumit Kumar Jethani Jethani",
      "photoUrl": "",
      "userId": "10176846141695721990"
     },
     "user_tz": -60
    },
    "id": "Q3y6FxQuF7Ts",
    "outputId": "2a995f23-59fc-4190-fc36-cb6b7352b810"
   },
   "outputs": [
    {
     "data": {
      "text/plain": [
       "<Text: Moby Dick by Herman Melville 1851>"
      ]
     },
     "execution_count": 5,
     "metadata": {},
     "output_type": "execute_result"
    }
   ],
   "source": [
    "# escogemos text1 que es el famoso libro Moby Dick\n",
    "text1"
   ]
  },
  {
   "cell_type": "code",
   "execution_count": 6,
   "metadata": {
    "colab": {
     "base_uri": "https://localhost:8080/"
    },
    "executionInfo": {
     "elapsed": 463,
     "status": "ok",
     "timestamp": 1628593212774,
     "user": {
      "displayName": "Sumit Kumar Jethani Jethani",
      "photoUrl": "",
      "userId": "10176846141695721990"
     },
     "user_tz": -60
    },
    "id": "eFlDai-3Im-R",
    "outputId": "b7a34cac-f941-42fc-bcf5-52b2fa0ae16b"
   },
   "outputs": [
    {
     "data": {
      "text/plain": [
       "['[',\n",
       " 'Moby',\n",
       " 'Dick',\n",
       " 'by',\n",
       " 'Herman',\n",
       " 'Melville',\n",
       " '1851',\n",
       " ']',\n",
       " 'ETYMOLOGY',\n",
       " '.']"
      ]
     },
     "execution_count": 6,
     "metadata": {},
     "output_type": "execute_result"
    }
   ],
   "source": [
    "# Vemos que el texto ya viene tokenizado incluyendo caracteres especiales ....\n",
    "text1.tokens[:10]"
   ]
  },
  {
   "cell_type": "code",
   "execution_count": 7,
   "metadata": {
    "colab": {
     "base_uri": "https://localhost:8080/"
    },
    "executionInfo": {
     "elapsed": 255,
     "status": "ok",
     "timestamp": 1628593252320,
     "user": {
      "displayName": "Sumit Kumar Jethani Jethani",
      "photoUrl": "",
      "userId": "10176846141695721990"
     },
     "user_tz": -60
    },
    "id": "xO4R4EgzIAuK",
    "outputId": "efaa74f1-6982-450f-f472-59a045776657"
   },
   "outputs": [
    {
     "data": {
      "text/plain": [
       "260819"
      ]
     },
     "execution_count": 7,
     "metadata": {},
     "output_type": "execute_result"
    }
   ],
   "source": [
    "# ¿Cuantos tokens tiene el libro?\n",
    "len(text1)"
   ]
  },
  {
   "cell_type": "markdown",
   "metadata": {
    "id": "Tm95nIKgJZ0F"
   },
   "source": [
    "## Medida de riqueza lexica en un texto: \n",
    "$$ R_l = \\frac{\\text{total de palabras únicas}}{\\text{total de palabras}} = \\frac{\\text{longitud del vocabulario}}{\\text{longitud del texto}}$$ \n",
    "\n",
    "La riqueza léxica en un texto cuanto más grande sea significa que el autor usó más palabras del lenguaje o que las palabras en el texto se repiten menos"
   ]
  },
  {
   "cell_type": "code",
   "execution_count": 8,
   "metadata": {
    "colab": {
     "base_uri": "https://localhost:8080/"
    },
    "executionInfo": {
     "elapsed": 255,
     "status": "ok",
     "timestamp": 1628593507321,
     "user": {
      "displayName": "Sumit Kumar Jethani Jethani",
      "photoUrl": "",
      "userId": "10176846141695721990"
     },
     "user_tz": -60
    },
    "id": "X3I0r11xIvpz",
    "outputId": "5048d719-f442-4d68-93aa-26cb62dc7b7b"
   },
   "outputs": [
    {
     "data": {
      "text/plain": [
       "['Crew',\n",
       " 'Crish',\n",
       " 'Crockett',\n",
       " 'Cross',\n",
       " 'Crossed',\n",
       " 'Crossing',\n",
       " 'Crotch',\n",
       " 'Crowding',\n",
       " 'Crown',\n",
       " 'Crozetts',\n",
       " 'Cruelty',\n",
       " 'Cruising',\n",
       " 'Cruppered',\n",
       " 'Crusaders',\n",
       " 'Crushed',\n",
       " 'Crying',\n",
       " 'Cuba',\n",
       " 'Curious',\n",
       " 'Curse',\n",
       " 'Cursed',\n",
       " 'Curses',\n",
       " 'Cussed',\n",
       " 'Customs',\n",
       " 'Cut',\n",
       " 'Cutter',\n",
       " 'Cutting',\n",
       " 'Cuvier',\n",
       " 'Cyclades',\n",
       " 'Czar',\n",
       " 'D',\n",
       " 'DAGGOO',\n",
       " 'DAM',\n",
       " 'DANCE',\n",
       " 'DANCING',\n",
       " 'DANIEL',\n",
       " 'DANISH',\n",
       " 'DARKENS',\n",
       " 'DARWIN',\n",
       " 'DAVENANT',\n",
       " 'DEAD',\n",
       " 'DEATH',\n",
       " 'DEBELL',\n",
       " 'DECK',\n",
       " 'DEL',\n",
       " 'DESTROYED',\n",
       " 'DEVIL',\n",
       " 'DICTIONARY',\n",
       " 'DID',\n",
       " 'DIGNITY',\n",
       " 'DISCOVERS']"
      ]
     },
     "execution_count": 8,
     "metadata": {},
     "output_type": "execute_result"
    }
   ],
   "source": [
    "# Primero realizamos la construcción de un vocabulario (identificamos las palabras unicas que hay en el libro)\n",
    "# https://docs.python.org/2/library/sets.html\n",
    "vocabulario = sorted(set(text1))\n",
    "vocabulario[1000:1050]"
   ]
  },
  {
   "cell_type": "code",
   "execution_count": 9,
   "metadata": {
    "colab": {
     "base_uri": "https://localhost:8080/"
    },
    "executionInfo": {
     "elapsed": 257,
     "status": "ok",
     "timestamp": 1628593644757,
     "user": {
      "displayName": "Sumit Kumar Jethani Jethani",
      "photoUrl": "",
      "userId": "10176846141695721990"
     },
     "user_tz": -60
    },
    "id": "zIlPOlLdI3wb",
    "outputId": "aa4beda2-0eeb-43e2-db4e-32cbd4cd3ffb"
   },
   "outputs": [
    {
     "name": "stdout",
     "output_type": "stream",
     "text": [
      "0.07406285585022564\n"
     ]
    }
   ],
   "source": [
    "# luego definimos la medida de riqueza léxica:\n",
    "rl = len(vocabulario)/len(text1)\n",
    "print(rl)"
   ]
  },
  {
   "cell_type": "code",
   "execution_count": 10,
   "metadata": {
    "colab": {
     "base_uri": "https://localhost:8080/"
    },
    "executionInfo": {
     "elapsed": 259,
     "status": "ok",
     "timestamp": 1628593875109,
     "user": {
      "displayName": "Sumit Kumar Jethani Jethani",
      "photoUrl": "",
      "userId": "10176846141695721990"
     },
     "user_tz": -60
    },
    "id": "4KBxRjHQJ2d7",
    "outputId": "bc95307a-aab9-4ecb-ff9b-0806da5837b7"
   },
   "outputs": [
    {
     "name": "stdout",
     "output_type": "stream",
     "text": [
      "0.07406285585022564\n",
      "0.018786974875296663 %\n"
     ]
    }
   ],
   "source": [
    "# podemos definir funciones en python para estas medidas léxicas:\n",
    "def riqueza_lexica(texto):\n",
    "  return len(set(texto))/len(texto)\n",
    "\n",
    "def porcentaje_palabra(palabra, texto):\n",
    "  return 100*texto.count(palabra)/len(texto)\n",
    "\n",
    "print(riqueza_lexica(text1))\n",
    "print(porcentaje_palabra(\"monster\",text1), '%')"
   ]
  },
  {
   "cell_type": "code",
   "execution_count": 11,
   "metadata": {
    "colab": {
     "base_uri": "https://localhost:8080/"
    },
    "executionInfo": {
     "elapsed": 275,
     "status": "ok",
     "timestamp": 1628593900167,
     "user": {
      "displayName": "Sumit Kumar Jethani Jethani",
      "photoUrl": "",
      "userId": "10176846141695721990"
     },
     "user_tz": -60
    },
    "id": "VHzRScBFNHbY",
    "outputId": "19aba546-8857-4104-8a3c-d28eac106684"
   },
   "outputs": [
    {
     "data": {
      "text/plain": [
       "0.018786974875296663"
      ]
     },
     "execution_count": 11,
     "metadata": {},
     "output_type": "execute_result"
    }
   ],
   "source": [
    "# podemos calcular el porcentaje de texto que ocupa una palabra en una cadena larga de texto.\n",
    "porcentaje_palabra('monster', text1)"
   ]
  },
  {
   "cell_type": "code",
   "execution_count": 12,
   "metadata": {
    "colab": {
     "base_uri": "https://localhost:8080/"
    },
    "executionInfo": {
     "elapsed": 300,
     "status": "ok",
     "timestamp": 1628593902985,
     "user": {
      "displayName": "Sumit Kumar Jethani Jethani",
      "photoUrl": "",
      "userId": "10176846141695721990"
     },
     "user_tz": -60
    },
    "id": "lLvrh39wPRBz",
    "outputId": "c1792b50-b03a-4e5f-e674-3322a20710d5"
   },
   "outputs": [
    {
     "data": {
      "text/plain": [
       "49"
      ]
     },
     "execution_count": 12,
     "metadata": {},
     "output_type": "execute_result"
    }
   ],
   "source": [
    "# y calcular en conteo el numero de veces que aparece:\n",
    "text1.count('monster')"
   ]
  },
  {
   "cell_type": "markdown",
   "metadata": {
    "id": "Y-CMwKBzMGmK"
   },
   "source": [
    "# Estadistica del Lenguaje\n",
    "\n",
    "Los cálculos estadísticos más simples que se pueden efectuar sobre un texto o un corpus son los relacionados con frecuencia de aparición de palabras.\n",
    "\n",
    "* Podemos construir un diccionario en Python donde las llaves sean las palabras y los valores sean las frecuencias de ocurrencias de esas palabras.\n",
    "\n",
    "* ejemplo `dic = {'monster': 49 ,  'boat': 54,  ...}`\n"
   ]
  },
  {
   "cell_type": "code",
   "execution_count": 16,
   "metadata": {
    "colab": {
     "base_uri": "https://localhost:8080/"
    },
    "executionInfo": {
     "elapsed": 87073,
     "status": "ok",
     "timestamp": 1628594165124,
     "user": {
      "displayName": "Sumit Kumar Jethani Jethani",
      "photoUrl": "",
      "userId": "10176846141695721990"
     },
     "user_tz": -60
    },
    "id": "WEGgKnFeKd5v",
    "outputId": "ab39c8f7-38bf-4bbe-b3fe-ec1cc7cd9678"
   },
   "outputs": [
    {
     "data": {
      "text/plain": [
       "{'NOUN': 1,\n",
       " 'crab': 1,\n",
       " 'ineffable': 3,\n",
       " '107': 1,\n",
       " 'usurpation': 3,\n",
       " 'array': 3,\n",
       " '1652': 1,\n",
       " 'receive': 8,\n",
       " 'pins': 2,\n",
       " 'committed': 1,\n",
       " 'thole': 1,\n",
       " 'fritters': 3,\n",
       " 'perceptibly': 2,\n",
       " 'fathom': 2,\n",
       " 'surging': 3,\n",
       " 'handled': 8,\n",
       " 'MUTINEER': 1,\n",
       " 'congeal': 1,\n",
       " 'T': 8,\n",
       " 'Bull': 3,\n",
       " 'allotted': 1,\n",
       " 'Rights': 1,\n",
       " 'intellects': 1,\n",
       " 'Seven': 1,\n",
       " 'blackling': 1,\n",
       " 'unfavourable': 1,\n",
       " 'specialties': 1,\n",
       " 'digressively': 1,\n",
       " 'dares': 1,\n",
       " 'immense': 15,\n",
       " 'charcoal': 1,\n",
       " 'down': 364,\n",
       " 'bind': 2,\n",
       " 'revolve': 4,\n",
       " 'appointed': 3,\n",
       " 'hose': 2,\n",
       " 'Met': 1,\n",
       " 'residuary': 1,\n",
       " 'heights': 1,\n",
       " 'per': 2,\n",
       " 'seriously': 3,\n",
       " 'signification': 1,\n",
       " 'file': 6,\n",
       " 'doer': 1,\n",
       " 'shy': 1,\n",
       " 'sixty': 17,\n",
       " 'HERBERT': 1,\n",
       " 'case': 69,\n",
       " 'passionately': 1,\n",
       " 'define': 2,\n",
       " 'stained': 4,\n",
       " 'bigotry': 1,\n",
       " 'toy': 2,\n",
       " 'delicacy': 7,\n",
       " 'punchbowl': 4,\n",
       " 'Constantinople': 3,\n",
       " 'nephew': 1,\n",
       " 'confronted': 1,\n",
       " 'waggish': 2,\n",
       " 'problem': 7,\n",
       " 'damsels': 1,\n",
       " 'might': 183,\n",
       " 'claim': 6,\n",
       " 'trunk': 17,\n",
       " 'Wave': 1,\n",
       " 'festoons': 1,\n",
       " 'vicissitude': 1,\n",
       " 'trucks': 4,\n",
       " 'bore': 17,\n",
       " 'classification': 4,\n",
       " 'superficially': 1,\n",
       " 'extended': 5,\n",
       " 'scoundrel': 1,\n",
       " 'foetal': 1,\n",
       " 'overtaken': 1,\n",
       " 'elder': 1,\n",
       " 'doze': 5,\n",
       " 'legitimately': 1,\n",
       " 'striking': 23,\n",
       " '(': 210,\n",
       " 'GAM': 3,\n",
       " 'entreaties': 1,\n",
       " 'preferred': 1,\n",
       " 'Saint': 1,\n",
       " 'neighbor': 1,\n",
       " 'trance': 5,\n",
       " 'crackled': 1,\n",
       " 'unspeakably': 2,\n",
       " 'marched': 2,\n",
       " 'wonderments': 1,\n",
       " 'backstays': 2,\n",
       " 'subdivisions': 1,\n",
       " 'Michael': 1,\n",
       " 'slavish': 2,\n",
       " 'soladoes': 1,\n",
       " 'rap': 3,\n",
       " 'dinning': 1,\n",
       " 'lump': 2,\n",
       " 'tragedies': 2,\n",
       " 'Spread': 1,\n",
       " 'prediction': 1,\n",
       " 'Few': 2,\n",
       " 'judgments': 1,\n",
       " 'PLINY': 1,\n",
       " 'consistency': 1,\n",
       " 'stabbing': 3,\n",
       " 'Whiteness': 1,\n",
       " 'hallo': 1,\n",
       " 'answered': 22,\n",
       " 'ript': 1,\n",
       " 'jawed': 1,\n",
       " 'Sherry': 1,\n",
       " 'wielded': 2,\n",
       " 'vain': 30,\n",
       " 'chimed': 1,\n",
       " 'amber': 5,\n",
       " 'glorious': 5,\n",
       " 'victoriously': 1,\n",
       " 'glorying': 1,\n",
       " 'confidence': 6,\n",
       " 'paralysed': 1,\n",
       " 'FROM': 10,\n",
       " 'trope': 1,\n",
       " 'toughest': 1,\n",
       " 'lasts': 1,\n",
       " 'misdoubt': 1,\n",
       " 'merged': 3,\n",
       " 'scorching': 4,\n",
       " 'PARADISE': 1,\n",
       " 'Lord': 44,\n",
       " 'drew': 22,\n",
       " 'planets': 3,\n",
       " 'aim': 3,\n",
       " 'prior': 7,\n",
       " 'Shaster': 2,\n",
       " 'nurseries': 1,\n",
       " 'woeful': 2,\n",
       " 'cistern': 3,\n",
       " 'Whirlpooles': 1,\n",
       " 'hits': 1,\n",
       " 'shrunken': 1,\n",
       " 'stopped': 8,\n",
       " 'distended': 4,\n",
       " 'necessitates': 3,\n",
       " 'weight': 17,\n",
       " 'blazing': 7,\n",
       " 'Mysticetus': 2,\n",
       " 'comforting': 1,\n",
       " 'puncheons': 1,\n",
       " 'daft': 3,\n",
       " 'unstricken': 1,\n",
       " 'vibrated': 3,\n",
       " 'Dolly': 1,\n",
       " 'EXTENDING': 1,\n",
       " 'frigates': 2,\n",
       " 'absolute': 4,\n",
       " 'freewill': 1,\n",
       " 'Rhyme': 2,\n",
       " 'crabs': 3,\n",
       " 'dissertations': 1,\n",
       " 'lunges': 1,\n",
       " 'AFRICA': 1,\n",
       " 'assigns': 1,\n",
       " 'scarcely': 8,\n",
       " 'yields': 3,\n",
       " 'yore': 2,\n",
       " 'REQUIEM': 1,\n",
       " 'Gesner': 1,\n",
       " 'sickle': 2,\n",
       " 'Believe': 2,\n",
       " 'tinkling': 2,\n",
       " 'region': 5,\n",
       " 'tremulous': 3,\n",
       " 'unrolled': 1,\n",
       " 'theoretic': 2,\n",
       " 'wood': 34,\n",
       " 'shakes': 5,\n",
       " 'corn': 5,\n",
       " 'summary': 3,\n",
       " 'gregarious': 3,\n",
       " 'unseen': 14,\n",
       " 'inordinate': 3,\n",
       " 'trances': 1,\n",
       " 'leadership': 1,\n",
       " 'avenger': 1,\n",
       " 'interlacings': 1,\n",
       " 'undertaken': 2,\n",
       " 'communicated': 1,\n",
       " 'Science': 1,\n",
       " 'verbal': 1,\n",
       " 'rugged': 1,\n",
       " 'statues': 1,\n",
       " 'irradiate': 1,\n",
       " 'action': 9,\n",
       " 'catches': 1,\n",
       " 'gloating': 1,\n",
       " 'schoolboys': 2,\n",
       " 'fourteen': 1,\n",
       " 'habeat': 1,\n",
       " 'bearers': 2,\n",
       " 'Back': 8,\n",
       " 'pedigree': 1,\n",
       " 'drills': 1,\n",
       " ',': 18713,\n",
       " 'reigns': 2,\n",
       " 'distress': 3,\n",
       " 'tigers': 2,\n",
       " 'vacantly': 2,\n",
       " 'picked': 11,\n",
       " 'worst': 2,\n",
       " 'stooped': 5,\n",
       " 'argosy': 2,\n",
       " 'resign': 1,\n",
       " 'glide': 2,\n",
       " 'circus': 3,\n",
       " 'balmed': 1,\n",
       " 'races': 1,\n",
       " 'DISCOVERS': 1,\n",
       " 'Heeva': 2,\n",
       " 'fever': 4,\n",
       " 'suckled': 1,\n",
       " 'WHARTON': 1,\n",
       " 'bearskin': 2,\n",
       " 'frigid': 3,\n",
       " 'pole': 26,\n",
       " 'steaks': 1,\n",
       " 'walled': 4,\n",
       " 'chested': 1,\n",
       " 'forge': 10,\n",
       " 'monument': 2,\n",
       " 'broadly': 2,\n",
       " 'middle': 35,\n",
       " 'Patience': 1,\n",
       " 'suffusingly': 1,\n",
       " 'Aloft': 9,\n",
       " 'pleasure': 4,\n",
       " 'thwart': 1,\n",
       " 'paint': 5,\n",
       " 'Holy': 5,\n",
       " 'busy': 7,\n",
       " 'plethoric': 1,\n",
       " 'vernacular': 1,\n",
       " 'oxen': 3,\n",
       " 'pillow': 7,\n",
       " 'Cleopatra': 2,\n",
       " 'clove': 1,\n",
       " 'meantime': 3,\n",
       " 'bequeathed': 1,\n",
       " 'embellishments': 1,\n",
       " 'Lexicon': 1,\n",
       " 'list': 5,\n",
       " 'flambeaux': 1,\n",
       " 'corpusants': 6,\n",
       " 'aghast': 4,\n",
       " 'uncomfortableness': 1,\n",
       " 'hoping': 1,\n",
       " 'Merchant': 4,\n",
       " 'sage': 2,\n",
       " 'Edward': 1,\n",
       " 'sneak': 1,\n",
       " 'hey': 8,\n",
       " 'independently': 1,\n",
       " 'Cuvier': 10,\n",
       " 'image': 11,\n",
       " 'receiving': 11,\n",
       " 'jiff': 1,\n",
       " 'hazel': 2,\n",
       " 'hover': 2,\n",
       " 'braves': 1,\n",
       " 'swerved': 1,\n",
       " 'SMALL': 1,\n",
       " 'Saco': 1,\n",
       " 'gown': 1,\n",
       " 'primers': 1,\n",
       " 'by': 1137,\n",
       " 'locks': 4,\n",
       " 'beholder': 1,\n",
       " 'wait': 7,\n",
       " 'bluntly': 1,\n",
       " 'showed': 16,\n",
       " 'rod': 15,\n",
       " 'church': 9,\n",
       " 'analogy': 2,\n",
       " 'chronicler': 1,\n",
       " 'sighting': 1,\n",
       " 'reigneth': 1,\n",
       " 'naturalists': 11,\n",
       " 'puffs': 5,\n",
       " 'torpid': 1,\n",
       " 'Meantime': 19,\n",
       " 'employment': 1,\n",
       " 'dietetically': 1,\n",
       " 'rounded': 5,\n",
       " 'couldst': 1,\n",
       " 'XXXIX': 1,\n",
       " 'encouraged': 1,\n",
       " 'skippers': 1,\n",
       " 'peddlin': 1,\n",
       " 'blackest': 1,\n",
       " 'usually': 5,\n",
       " 'flaxen': 2,\n",
       " 'pyramidical': 2,\n",
       " 'mutiny': 3,\n",
       " 'strawberries': 1,\n",
       " 'ordered': 8,\n",
       " 'calls': 12,\n",
       " 'cure': 3,\n",
       " 'stars': 12,\n",
       " 'staggers': 2,\n",
       " 'bearer': 4,\n",
       " 'Saladin': 1,\n",
       " 'contentedly': 1,\n",
       " 'bluish': 2,\n",
       " 'disquietude': 1,\n",
       " 'wailing': 1,\n",
       " 'chips': 5,\n",
       " 'drink': 16,\n",
       " 'Archy': 5,\n",
       " 'foiled': 2,\n",
       " 'incredulous': 5,\n",
       " 'when': 553,\n",
       " 'smokers': 1,\n",
       " 'favoured': 1,\n",
       " 'thunders': 3,\n",
       " 'delicate': 7,\n",
       " 'wondrously': 2,\n",
       " 'slope': 2,\n",
       " 'shook': 13,\n",
       " 'inquire': 3,\n",
       " 'expressive': 3,\n",
       " 'swim': 20,\n",
       " 'vengeance': 11,\n",
       " 'paces': 2,\n",
       " 'wane': 2,\n",
       " 'February': 1,\n",
       " 'atheism': 1,\n",
       " 'valvular': 1,\n",
       " 'occult': 1,\n",
       " 'fiends': 5,\n",
       " 'Proceed': 1,\n",
       " 'glittered': 1,\n",
       " 'hereby': 7,\n",
       " 'whistle': 1,\n",
       " 'abasement': 1,\n",
       " 'wire': 2,\n",
       " 'supposed': 15,\n",
       " 'important': 19,\n",
       " 'quality': 7,\n",
       " 'tortoise': 1,\n",
       " 'sitteth': 1,\n",
       " 'elaboration': 1,\n",
       " 'yonder': 16,\n",
       " 'grated': 1,\n",
       " 'bitterest': 4,\n",
       " 'remounting': 1,\n",
       " 'prefix': 1,\n",
       " 'illuminated': 3,\n",
       " 'snare': 1,\n",
       " 'wiping': 1,\n",
       " 'transports': 1,\n",
       " 'wick': 1,\n",
       " 'View': 2,\n",
       " 'RICHARD': 1,\n",
       " 'jogs': 1,\n",
       " 'Stone': 1,\n",
       " 'Impiety': 1,\n",
       " 'ruinous': 2,\n",
       " 'SEBOND': 1,\n",
       " 'ashore': 33,\n",
       " 'south': 7,\n",
       " 'distilled': 1,\n",
       " 'discreetly': 1,\n",
       " 'silent': 25,\n",
       " 'instrument': 3,\n",
       " 'resisted': 1,\n",
       " 'Wrinkled': 1,\n",
       " 'eat': 11,\n",
       " 'twenty': 33,\n",
       " 'Poland': 2,\n",
       " 'Herod': 1,\n",
       " 'sprout': 2,\n",
       " 'heed': 5,\n",
       " 'padded': 2,\n",
       " 'Exception': 1,\n",
       " 'width': 3,\n",
       " 'transfixed': 1,\n",
       " 'Fishes': 2,\n",
       " 'relics': 4,\n",
       " 'remains': 24,\n",
       " 'Sailors': 1,\n",
       " 'perilously': 2,\n",
       " 'selectest': 1,\n",
       " 'Fates': 6,\n",
       " 'outriders': 2,\n",
       " 'severe': 5,\n",
       " 'despatched': 1,\n",
       " 'lights': 9,\n",
       " 'tetering': 1,\n",
       " 'fullest': 4,\n",
       " 'unprecedentedly': 1,\n",
       " 'constrain': 1,\n",
       " 'crosswise': 4,\n",
       " 'being': 219,\n",
       " 'bewitching': 1,\n",
       " 'warn': 3,\n",
       " 'FIXED': 1,\n",
       " 'whimsiness': 1,\n",
       " 'covenant': 2,\n",
       " 'contingent': 1,\n",
       " 'gloomiest': 1,\n",
       " 'become': 28,\n",
       " 'unmistakable': 2,\n",
       " 'chisel': 2,\n",
       " 'honing': 1,\n",
       " 'the': 13721,\n",
       " 'damn': 3,\n",
       " 'RAPE': 1,\n",
       " 'lower': 57,\n",
       " 'PRESIDENCY': 1,\n",
       " 'hastily': 1,\n",
       " 'Dunkirk': 1,\n",
       " 'remnant': 1,\n",
       " 'whalesmen': 1,\n",
       " 'ravished': 1,\n",
       " 'ascended': 5,\n",
       " 'placidly': 1,\n",
       " 'orthodox': 1,\n",
       " 'comforted': 1,\n",
       " 'isinglass': 3,\n",
       " 'satirizing': 1,\n",
       " 'festooning': 1,\n",
       " 'pitchiest': 1,\n",
       " 'rituals': 1,\n",
       " 'beds': 3,\n",
       " 'Pardon': 2,\n",
       " 'Gently': 1,\n",
       " 'bucklers': 1,\n",
       " 'puzzled': 3,\n",
       " 'Cannibals': 2,\n",
       " 'Mealy': 1,\n",
       " 'finally': 23,\n",
       " 'lumbered': 1,\n",
       " 'recede': 1,\n",
       " 'Dragon': 1,\n",
       " 'dragging': 7,\n",
       " 'dropping': 16,\n",
       " 'casement': 1,\n",
       " 'navigation': 1,\n",
       " '101': 1,\n",
       " 'masted': 1,\n",
       " 'sharper': 4,\n",
       " 'tucking': 1,\n",
       " 'pestilent': 2,\n",
       " 'earthquakes': 2,\n",
       " 'unrustlingly': 1,\n",
       " 'prompts': 1,\n",
       " 'Kremlin': 1,\n",
       " 'WHALEBONE': 1,\n",
       " 'detained': 1,\n",
       " 'floes': 1,\n",
       " 'idly': 4,\n",
       " 'shank': 3,\n",
       " '130': 1,\n",
       " 'used': 48,\n",
       " 'Canadian': 1,\n",
       " 'assuring': 1,\n",
       " 'clout': 2,\n",
       " 'arch': 4,\n",
       " 'clefts': 1,\n",
       " 'noticing': 1,\n",
       " 'Then': 57,\n",
       " 'Ha': 21,\n",
       " 'apothecary': 3,\n",
       " 'Considering': 3,\n",
       " 'courses': 6,\n",
       " 'baser': 1,\n",
       " 'ECUADOR': 1,\n",
       " 'Sea': 22,\n",
       " 'flaked': 1,\n",
       " 'massive': 5,\n",
       " 'beaches': 3,\n",
       " 'precious': 18,\n",
       " 'fencing': 1,\n",
       " 'arrow': 4,\n",
       " 'drawn': 25,\n",
       " 'openly': 3,\n",
       " 'Snarles': 1,\n",
       " 'overdoing': 1,\n",
       " 'dention': 2,\n",
       " 'unwarped': 1,\n",
       " 'Broke': 2,\n",
       " 'Hudson': 2,\n",
       " 'chick': 1,\n",
       " 'inevitable': 2,\n",
       " 'ere': 66,\n",
       " 'twin': 6,\n",
       " 'handed': 10,\n",
       " 'benediction': 3,\n",
       " 'freedom': 2,\n",
       " 'disorder': 1,\n",
       " 'ANNUS': 1,\n",
       " 'selling': 2,\n",
       " 'Above': 2,\n",
       " 'sad': 9,\n",
       " 'unceasing': 2,\n",
       " 'circling': 3,\n",
       " '21st': 1,\n",
       " 'amphitheatrical': 1,\n",
       " 'heartily': 4,\n",
       " 'tideless': 1,\n",
       " 'scimetar': 1,\n",
       " 'ignoramus': 1,\n",
       " 'genteel': 1,\n",
       " 'Loom': 1,\n",
       " 'afforded': 5,\n",
       " 'barreller': 1,\n",
       " 'Fata': 1,\n",
       " 'hopefulness': 1,\n",
       " 'anointing': 2,\n",
       " 'circled': 1,\n",
       " 'gulp': 2,\n",
       " 'boy': 50,\n",
       " 'devils': 16,\n",
       " 'retracing': 1,\n",
       " 'tune': 2,\n",
       " 'strung': 2,\n",
       " 'Cetacean': 3,\n",
       " 'highly': 7,\n",
       " 'unthinking': 1,\n",
       " 'authorities': 5,\n",
       " 'disconnected': 1,\n",
       " 'spiracle': 7,\n",
       " 'bleached': 3,\n",
       " 'COMMERCIAL': 1,\n",
       " 'Green': 4,\n",
       " 'unworshipping': 1,\n",
       " 'cruise': 7,\n",
       " 'rides': 2,\n",
       " 'nicely': 2,\n",
       " 'TIME': 1,\n",
       " 'pinioned': 3,\n",
       " 'Two': 7,\n",
       " 'hopeful': 2,\n",
       " 'tending': 3,\n",
       " 'sum': 9,\n",
       " 'corkscrewed': 1,\n",
       " 'finical': 1,\n",
       " 'purely': 3,\n",
       " 'themselves': 59,\n",
       " 'provided': 6,\n",
       " 'consternation': 10,\n",
       " 'mug': 1,\n",
       " 'placid': 1,\n",
       " 'nearer': 15,\n",
       " 'creatures': 34,\n",
       " 'bride': 4,\n",
       " 'carries': 16,\n",
       " 'intertwisting': 1,\n",
       " 'trumps': 1,\n",
       " 'OCEAN': 2,\n",
       " 'Level': 1,\n",
       " 'whirls': 1,\n",
       " 'ships': 87,\n",
       " 'Thinks': 4,\n",
       " 'frail': 1,\n",
       " 'closely': 14,\n",
       " 'entitled': 10,\n",
       " 'possess': 5,\n",
       " 'mower': 2,\n",
       " 'allures': 2,\n",
       " 'hatband': 1,\n",
       " 'confiding': 1,\n",
       " 'gazed': 10,\n",
       " 'Scriptures': 2,\n",
       " 'leave': 18,\n",
       " 'principles': 4,\n",
       " 'plump': 4,\n",
       " 'yielding': 3,\n",
       " 'canvas': 14,\n",
       " 'tore': 13,\n",
       " 'landing': 2,\n",
       " 'proportionate': 2,\n",
       " 'crowing': 1,\n",
       " 'happenest': 1,\n",
       " 'singing': 11,\n",
       " 'whatsoever': 5,\n",
       " 'suspend': 4,\n",
       " 'Hallo': 1,\n",
       " 'comet': 1,\n",
       " 'captive': 4,\n",
       " '134': 1,\n",
       " 'methodic': 3,\n",
       " 'amounted': 1,\n",
       " 'demigorgon': 1,\n",
       " 'dissembling': 2,\n",
       " 'breakers': 6,\n",
       " 'crews': 16,\n",
       " 'Moses': 2,\n",
       " 'settee': 1,\n",
       " 'feud': 1,\n",
       " 'alarm': 8,\n",
       " 'outwards': 1,\n",
       " 'Chartering': 1,\n",
       " 'plunder': 2,\n",
       " 'undiscoverable': 1,\n",
       " 'fidelities': 1,\n",
       " 'departed': 14,\n",
       " 'promotion': 2,\n",
       " 'existing': 2,\n",
       " 'whipping': 2,\n",
       " 'untrodden': 1,\n",
       " 'tyro': 2,\n",
       " 'WHERE': 1,\n",
       " 'couple': 6,\n",
       " 'comber': 1,\n",
       " 'unconditional': 5,\n",
       " 'hear': 60,\n",
       " 'hammock': 33,\n",
       " 'rags': 3,\n",
       " 'difficulty': 4,\n",
       " 'tarred': 2,\n",
       " 'attraction': 1,\n",
       " 'coil': 6,\n",
       " 'naturally': 12,\n",
       " 'miserable': 8,\n",
       " 'hiss': 3,\n",
       " 'pitchpoled': 1,\n",
       " 'credentials': 2,\n",
       " 'meal': 3,\n",
       " 'Ezekiel': 1,\n",
       " 'yellowish': 2,\n",
       " '1492': 1,\n",
       " 'Magnitude': 1,\n",
       " 'unmindful': 2,\n",
       " 'ay': 1,\n",
       " 'sharpen': 2,\n",
       " 'you': 841,\n",
       " 'poised': 3,\n",
       " 'capsize': 1,\n",
       " 'menace': 1,\n",
       " 'beauty': 8,\n",
       " 'purge': 1,\n",
       " 'Pass': 2,\n",
       " 'insurances': 1,\n",
       " 'havoc': 4,\n",
       " 'FINALLY': 1,\n",
       " 'rivet': 1,\n",
       " 'orgies': 2,\n",
       " 'clustering': 1,\n",
       " 'paved': 3,\n",
       " 'Put': 1,\n",
       " 'nooses': 1,\n",
       " 'acknowledging': 1,\n",
       " 'leaking': 2,\n",
       " '118': 1,\n",
       " 'eluded': 3,\n",
       " 'dissemble': 1,\n",
       " 'reefing': 1,\n",
       " 'autumnal': 1,\n",
       " 'River': 1,\n",
       " 'hearts': 29,\n",
       " 'WHIFF': 1,\n",
       " 'revenge': 7,\n",
       " 'Colonies': 1,\n",
       " 'unfathomable': 3,\n",
       " 'foamin': 1,\n",
       " 'babyish': 1,\n",
       " 'ignores': 1,\n",
       " 'soles': 1,\n",
       " 'energy': 7,\n",
       " 'Paean': 1,\n",
       " 'Channel': 1,\n",
       " 'cheap': 2,\n",
       " 'goddess': 1,\n",
       " 'Doubts': 1,\n",
       " 'malefactors': 1,\n",
       " 'awarded': 1,\n",
       " 'broad': 56,\n",
       " 'consuming': 3,\n",
       " 'inn': 6,\n",
       " 'horrible': 14,\n",
       " 'forethrown': 1,\n",
       " 'downright': 5,\n",
       " 'subtly': 1,\n",
       " 'cant': 3,\n",
       " 'sternly': 1,\n",
       " 'asked': 14,\n",
       " 'sog': 1,\n",
       " 'pinch': 1,\n",
       " 'architect': 2,\n",
       " 'Patagonia': 2,\n",
       " 'perishable': 1,\n",
       " 'rafters': 1,\n",
       " 'HATCHWAY': 1,\n",
       " 'calmly': 13,\n",
       " 'unwarrantable': 2,\n",
       " 'Tanaquil': 1,\n",
       " 'Transported': 1,\n",
       " 'Tash': 5,\n",
       " 'reads': 2,\n",
       " 'unenervated': 1,\n",
       " 'latter': 14,\n",
       " 'toils': 1,\n",
       " 'folder': 1,\n",
       " 'authoritative': 1,\n",
       " 'flirted': 2,\n",
       " 'cutlet': 1,\n",
       " 'wits': 1,\n",
       " 'idler': 2,\n",
       " 'moulder': 1,\n",
       " 'broiling': 1,\n",
       " 'stagger': 4,\n",
       " '98': 1,\n",
       " 'rake': 2,\n",
       " 'mutineers': 1,\n",
       " 'impressions': 10,\n",
       " 'quivering': 4,\n",
       " 'RETAKING': 1,\n",
       " 'Bout': 1,\n",
       " 'cruellest': 2,\n",
       " 'Signs': 2,\n",
       " 'bitts': 2,\n",
       " 'Shut': 1,\n",
       " 'unnamable': 1,\n",
       " 'Rensselaers': 1,\n",
       " 'snorts': 1,\n",
       " 'float': 9,\n",
       " 'barometer': 1,\n",
       " 'portcullis': 2,\n",
       " 'songs': 1,\n",
       " 'dazzlingly': 2,\n",
       " 'leech': 2,\n",
       " 'torment': 1,\n",
       " 'impiousness': 1,\n",
       " 'porches': 1,\n",
       " 'mightier': 2,\n",
       " 'solicitude': 2,\n",
       " 'Boat': 3,\n",
       " 'asleep': 6,\n",
       " 'Tarsus': 1,\n",
       " 'mottled': 2,\n",
       " 'morn': 2,\n",
       " 'thigh': 8,\n",
       " 'abundant': 3,\n",
       " 'strokes': 2,\n",
       " 'tendons': 4,\n",
       " 'chase': 56,\n",
       " 'remarkable': 13,\n",
       " 'objects': 11,\n",
       " 'distrusting': 2,\n",
       " 'portraits': 1,\n",
       " 'proceeded': 6,\n",
       " 'tail': 78,\n",
       " 'respiration': 2,\n",
       " 'mints': 1,\n",
       " 'impresses': 1,\n",
       " 'receding': 2,\n",
       " 'flinging': 7,\n",
       " 'wastingly': 1,\n",
       " 'Baltimore': 1,\n",
       " 'caged': 1,\n",
       " 'thump': 5,\n",
       " 'ordaining': 1,\n",
       " 'tablet': 1,\n",
       " 'perpendicularly': 8,\n",
       " 'corals': 1,\n",
       " 'started': 26,\n",
       " 'gentler': 1,\n",
       " 'rheumatic': 3,\n",
       " 'junk': 4,\n",
       " 'spine': 17,\n",
       " 'Hist': 4,\n",
       " 'mysterious': 10,\n",
       " '18': 1,\n",
       " 'obstinate': 2,\n",
       " 'struggle': 2,\n",
       " 'began': 53,\n",
       " 'kicking': 5,\n",
       " 'trio': 1,\n",
       " 'lecherous': 1,\n",
       " 'solitudes': 2,\n",
       " 'prow': 21,\n",
       " 'inferentially': 1,\n",
       " 'solely': 6,\n",
       " 'astern': 28,\n",
       " 'inasmuch': 7,\n",
       " 'importance': 6,\n",
       " 'mend': 6,\n",
       " 'intervening': 3,\n",
       " 'engine': 1,\n",
       " 'wheresoe': 1,\n",
       " 'so': 918,\n",
       " 'diadem': 1,\n",
       " 'Commend': 1,\n",
       " 'capacious': 2,\n",
       " 'riggers': 3,\n",
       " 'treachery': 1,\n",
       " 'mournful': 1,\n",
       " 'waifing': 2,\n",
       " 'negatived': 1,\n",
       " 'bashful': 1,\n",
       " 'shed': 4,\n",
       " 'actually': 16,\n",
       " 'crisis': 3,\n",
       " 'aggravate': 1,\n",
       " 'empire': 4,\n",
       " 'appeal': 1,\n",
       " 'swash': 1,\n",
       " 'light': 77,\n",
       " 'rampart': 3,\n",
       " 'cleft': 1,\n",
       " 'inflexibly': 1,\n",
       " 'basement': 2,\n",
       " 'Evil': 1,\n",
       " 'seated': 26,\n",
       " 'scouts': 1,\n",
       " 'shreds': 6,\n",
       " 'Concerning': 2,\n",
       " 'hopeless': 8,\n",
       " 'fall': 20,\n",
       " 'destinations': 1,\n",
       " 'hatchet': 6,\n",
       " 'borrow': 1,\n",
       " 'Unhinge': 1,\n",
       " 'Fat': 2,\n",
       " 'prostrate': 1,\n",
       " 'longer': 18,\n",
       " 'Because': 19,\n",
       " 'expansion': 2,\n",
       " 'mantle': 2,\n",
       " 'prairie': 11,\n",
       " 'furnace': 3,\n",
       " 'coercing': 1,\n",
       " 'panel': 1,\n",
       " 'drunken': 3,\n",
       " 'chamber': 3,\n",
       " 'circumstance': 26,\n",
       " 'July': 2,\n",
       " 'JAGO': 1,\n",
       " 'talked': 5,\n",
       " 'ascertaining': 1,\n",
       " 'feel': 56,\n",
       " 'rummaged': 1,\n",
       " 'SKY': 1,\n",
       " 'chalices': 1,\n",
       " 'efficiency': 1,\n",
       " 'masses': 8,\n",
       " 'quiescent': 2,\n",
       " 'gangs': 2,\n",
       " 'OCTAVO': 9,\n",
       " 'systematically': 4,\n",
       " 'speed': 12,\n",
       " 'cupbearers': 1,\n",
       " 'undetected': 1,\n",
       " 'Loftiest': 1,\n",
       " 'thousand': 51,\n",
       " 'joyful': 3,\n",
       " 'curious': 53,\n",
       " 'REPUBLICA': 1,\n",
       " '\"': 1478,\n",
       " 'coronation': 5,\n",
       " 'glen': 2,\n",
       " 'Strello': 1,\n",
       " 'marge': 1,\n",
       " 'narrated': 5,\n",
       " 'operates': 1,\n",
       " 'cohorts': 1,\n",
       " 'appalling': 10,\n",
       " '44': 1,\n",
       " 'wanderer': 1,\n",
       " 'mothers': 6,\n",
       " 'erectly': 1,\n",
       " 'regards': 2,\n",
       " 'Desecrated': 1,\n",
       " 'burning': 12,\n",
       " 'durable': 1,\n",
       " 'distressed': 2,\n",
       " 'FISH': 3,\n",
       " 'begging': 4,\n",
       " 'precaution': 1,\n",
       " 'nailest': 1,\n",
       " 'repenting': 2,\n",
       " 'square': 13,\n",
       " 'blades': 8,\n",
       " 'linked': 4,\n",
       " 'stereotype': 1,\n",
       " 'ebb': 2,\n",
       " 'rights': 5,\n",
       " '129': 1,\n",
       " 'grazed': 3,\n",
       " 'obedience': 8,\n",
       " 'chip': 5,\n",
       " 'unapparent': 1,\n",
       " 'providentially': 1,\n",
       " 'surveying': 1,\n",
       " 'lays': 6,\n",
       " 'Listen': 3,\n",
       " 'sich': 1,\n",
       " 'vigilance': 7,\n",
       " 'castle': 3,\n",
       " 'Wet': 2,\n",
       " 'Ireland': 1,\n",
       " 'partial': 1,\n",
       " 'blacks': 2,\n",
       " 'blighted': 1,\n",
       " 'performance': 1,\n",
       " 'presto': 2,\n",
       " 'kentledge': 1,\n",
       " 'shovels': 1,\n",
       " 'tingled': 1,\n",
       " 'roast': 3,\n",
       " 'aslope': 1,\n",
       " 'chains': 18,\n",
       " 'semicircle': 2,\n",
       " 'knocking': 7,\n",
       " 'extinction': 2,\n",
       " 'allowance': 2,\n",
       " 'smells': 11,\n",
       " 'Aroostook': 1,\n",
       " 'disciple': 1,\n",
       " 'pray': 6,\n",
       " 'sovereignest': 1,\n",
       " 'Czar': 5,\n",
       " 'resembling': 5,\n",
       " 'repelling': 1,\n",
       " 'seekest': 1,\n",
       " 'Malay': 1,\n",
       " 'coated': 1,\n",
       " 'rowed': 1,\n",
       " 'STOWE': 1,\n",
       " 'chosen': 3,\n",
       " 'sabbee': 4,\n",
       " 'Least': 1,\n",
       " 'uncanonical': 1,\n",
       " 'ignominious': 1,\n",
       " 'arose': 3,\n",
       " 'carnation': 1,\n",
       " 'intellect': 2,\n",
       " 'bowls': 2,\n",
       " 'morsel': 2,\n",
       " 'Coleridge': 2,\n",
       " 'scar': 4,\n",
       " 'CAP': 1,\n",
       " 'multiplicity': 2,\n",
       " 'touchest': 1,\n",
       " 'vero': 1,\n",
       " 'apex': 2,\n",
       " 'produces': 1,\n",
       " 'cultivate': 1,\n",
       " 'terrify': 3,\n",
       " 'distension': 2,\n",
       " 'wires': 2,\n",
       " 'queer': 44,\n",
       " 'ancient': 28,\n",
       " 'passer': 1,\n",
       " 'foie': 1,\n",
       " 'spearings': 1,\n",
       " 'cobblestones': 1,\n",
       " 'hemmed': 1,\n",
       " 'horses': 11,\n",
       " 'Will': 12,\n",
       " 'wildest': 2,\n",
       " 'noble': 44,\n",
       " 'EZEKIEL': 1,\n",
       " 'Annawon': 1,\n",
       " 'spines': 1,\n",
       " 'whom': 43,\n",
       " 'drowned': 12,\n",
       " 'fights': 3,\n",
       " 'prouder': 3,\n",
       " 'disturbing': 2,\n",
       " 'tissues': 1,\n",
       " 'core': 1,\n",
       " 'intelligently': 1,\n",
       " 'theatre': 1,\n",
       " 'feminine': 2,\n",
       " 'stumbling': 1,\n",
       " 'contemptibly': 1,\n",
       " 'scrabble': 1,\n",
       " 'Phaedon': 1,\n",
       " 'finish': 2,\n",
       " 'forced': 18,\n",
       " 'commenced': 7,\n",
       " 'enveloping': 3,\n",
       " 'provide': 2,\n",
       " 'sulk': 3,\n",
       " 'MAIN': 1,\n",
       " 'Picture': 1,\n",
       " 'pelt': 3,\n",
       " 'justly': 3,\n",
       " 'SPOUTINGS': 1,\n",
       " 'Sagittarius': 2,\n",
       " 'Setting': 2,\n",
       " 'sneaking': 1,\n",
       " 'studied': 2,\n",
       " 'hollows': 3,\n",
       " 'windlass': 21,\n",
       " 'pens': 2,\n",
       " 'economically': 1,\n",
       " 'Orientals': 1,\n",
       " ...}"
      ]
     },
     "execution_count": 16,
     "metadata": {
      "tags": []
     },
     "output_type": "execute_result"
    }
   ],
   "source": [
    "# METODO NO recomendable para conjuntos muy grandes\n",
    "dic = {}\n",
    "for palabra in set(text1):\n",
    "  #dic[palabra] = porcentaje_palabra(palabra, text1)\n",
    "  dic[palabra] = text1.count(palabra)\n",
    "dic"
   ]
  },
  {
   "cell_type": "markdown",
   "metadata": {
    "id": "5eWzHWyAy-5B"
   },
   "source": [
    "## Método FreqDist de NLTK"
   ]
  },
  {
   "cell_type": "code",
   "execution_count": 13,
   "metadata": {
    "executionInfo": {
     "elapsed": 1081,
     "status": "ok",
     "timestamp": 1628594405242,
     "user": {
      "displayName": "Sumit Kumar Jethani Jethani",
      "photoUrl": "",
      "userId": "10176846141695721990"
     },
     "user_tz": -60
    },
    "id": "Gu8q9plGNnA_"
   },
   "outputs": [],
   "source": [
    "# NLTK tiene un metodo muy eficiente\n",
    "fdist = FreqDist(text1)"
   ]
  },
  {
   "cell_type": "code",
   "execution_count": 14,
   "metadata": {
    "colab": {
     "base_uri": "https://localhost:8080/"
    },
    "executionInfo": {
     "elapsed": 281,
     "status": "ok",
     "timestamp": 1628594280260,
     "user": {
      "displayName": "Sumit Kumar Jethani Jethani",
      "photoUrl": "",
      "userId": "10176846141695721990"
     },
     "user_tz": -60
    },
    "id": "QPGzPWe2OmJf",
    "outputId": "55a089d5-2e03-4a34-f8d6-4480bfc702b7"
   },
   "outputs": [
    {
     "data": {
      "text/plain": [
       "[(',', 18713),\n",
       " ('the', 13721),\n",
       " ('.', 6862),\n",
       " ('of', 6536),\n",
       " ('and', 6024),\n",
       " ('a', 4569),\n",
       " ('to', 4542),\n",
       " (';', 4072),\n",
       " ('in', 3916),\n",
       " ('that', 2982),\n",
       " (\"'\", 2684),\n",
       " ('-', 2552),\n",
       " ('his', 2459),\n",
       " ('it', 2209),\n",
       " ('I', 2124),\n",
       " ('s', 1739),\n",
       " ('is', 1695),\n",
       " ('he', 1661),\n",
       " ('with', 1659),\n",
       " ('was', 1632)]"
      ]
     },
     "execution_count": 14,
     "metadata": {},
     "output_type": "execute_result"
    }
   ],
   "source": [
    "fdist.most_common(20)"
   ]
  },
  {
   "cell_type": "code",
   "execution_count": 15,
   "metadata": {
    "colab": {
     "base_uri": "https://localhost:8080/",
     "height": 291
    },
    "executionInfo": {
     "elapsed": 362,
     "status": "ok",
     "timestamp": 1628594337601,
     "user": {
      "displayName": "Sumit Kumar Jethani Jethani",
      "photoUrl": "",
      "userId": "10176846141695721990"
     },
     "user_tz": -60
    },
    "id": "fPCV9UqyOrpt",
    "outputId": "e6ac16ce-5ad9-4564-9114-cfe654501747"
   },
   "outputs": [
    {
     "data": {
      "image/png": "[encoded data removed]",
      "text/plain": [
       "<Figure size 432x288 with 1 Axes>"
      ]
     },
     "metadata": {
      "needs_background": "light"
     },
     "output_type": "display_data"
    },
    {
     "data": {
      "text/plain": [
       "<AxesSubplot:xlabel='Samples', ylabel='Counts'>"
      ]
     },
     "execution_count": 15,
     "metadata": {},
     "output_type": "execute_result"
    }
   ],
   "source": [
    "fdist.plot(20)"
   ]
  },
  {
   "cell_type": "code",
   "execution_count": 16,
   "metadata": {
    "colab": {
     "base_uri": "https://localhost:8080/"
    },
    "executionInfo": {
     "elapsed": 834,
     "status": "ok",
     "timestamp": 1628594371611,
     "user": {
      "displayName": "Sumit Kumar Jethani Jethani",
      "photoUrl": "",
      "userId": "10176846141695721990"
     },
     "user_tz": -60
    },
    "id": "V95L5wo4OzAJ",
    "outputId": "f0c070b4-6e25-440d-9d01-973b0b9fb33e"
   },
   "outputs": [
    {
     "data": {
      "text/plain": [
       "49"
      ]
     },
     "execution_count": 16,
     "metadata": {},
     "output_type": "execute_result"
    }
   ],
   "source": [
    "fdist['monster']"
   ]
  },
  {
   "cell_type": "markdown",
   "metadata": {
    "id": "QIv6TflAzEyi"
   },
   "source": [
    "## Distribuciones sobre contenido con filtro-fino\n",
    "\n",
    "* Como vimos en la sección anterior, los tokens más frecuentes en un texto no son necesariamente las palabras que mas informacion nos arrojan sobre el contenido del mismo. \n",
    "* Por ello, es mejor filtrar y construir distribuciones de frecuencia que no consideren signos de puntuación o caracteres especiales"
   ]
  },
  {
   "cell_type": "code",
   "execution_count": 17,
   "metadata": {
    "colab": {
     "base_uri": "https://localhost:8080/"
    },
    "executionInfo": {
     "elapsed": 237,
     "status": "ok",
     "timestamp": 1628594883640,
     "user": {
      "displayName": "Sumit Kumar Jethani Jethani",
      "photoUrl": "",
      "userId": "10176846141695721990"
     },
     "user_tz": -60
    },
    "id": "j3mUefGxPN9p",
    "outputId": "45d2e51b-d913-49f6-d66a-6a8375cbeb32"
   },
   "outputs": [
    {
     "data": {
      "text/plain": [
       "['ACCOUNT',\n",
       " 'ADDITIONAL',\n",
       " 'ADVANCING',\n",
       " 'ADVENTURES',\n",
       " 'AFFGHANISTAN',\n",
       " 'AFRICA',\n",
       " 'AGAINST',\n",
       " 'ALFRED',\n",
       " 'ALGERINE',\n",
       " 'AMERICA']"
      ]
     },
     "execution_count": 17,
     "metadata": {},
     "output_type": "execute_result"
    }
   ],
   "source": [
    "# Tal vez sea más interesante estudiar palabras que tengan una longitud minima especifica\n",
    "long_words = [palabra for palabra in text1 if len(palabra)>5]\n",
    "vocabulario_filtrado = sorted(set(long_words))\n",
    "vocabulario_filtrado[:10]"
   ]
  },
  {
   "cell_type": "markdown",
   "metadata": {
    "id": "PKRWasT60Dmm"
   },
   "source": [
    "Podemos ahora construir una lista de tuplas, basados en los conteos ya pre-calculados de la función `FreqDist`, así:\n",
    "\n",
    "`fdist_filtrado = [('account', 2), ('additional', 32), ('advancing', 5), ...]`\n",
    "\n",
    "Luego podemos convertir el objeto creado a formato de `np.array`de **Numpy** para poder hacer un sort por palabras mas frecuentes.\n",
    "\n",
    "`fdist_filtrado = np.array(fdist_filtrado, *args)`\n",
    "\n",
    "`np.sort(fdist_filtrado, *args) = [('account', 2), ('advancing', 5), ('additional', 32), ...]`"
   ]
  },
  {
   "cell_type": "code",
   "execution_count": 18,
   "metadata": {
    "colab": {
     "base_uri": "https://localhost:8080/"
    },
    "executionInfo": {
     "elapsed": 288,
     "status": "ok",
     "timestamp": 1628595522747,
     "user": {
      "displayName": "Sumit Kumar Jethani Jethani",
      "photoUrl": "",
      "userId": "10176846141695721990"
     },
     "user_tz": -60
    },
    "id": "wW68CjK2PuDd",
    "outputId": "ffea6558-c1a5-4899-dc01-4799558f8405"
   },
   "outputs": [
    {
     "data": {
      "text/plain": [
       "array([(b'between', 117), (b'something', 119), (b'against', 132),\n",
       "       (b'things', 132), (b'thought', 149), (b'CHAPTER', 150),\n",
       "       (b'without', 154), (b'Pequod', 172), (b'should', 181),\n",
       "       (b'almost', 186), (b'Starbuck', 196), (b'himself', 203),\n",
       "       (b'Captain', 215), (b'through', 227), (b'whales', 237),\n",
       "       (b'little', 247), (b'Queequeg', 252), (b'seemed', 283),\n",
       "       (b'before', 293), (b'though', 335)],\n",
       "      dtype=[('word', 'S10'), ('frequency', '<i4')])"
      ]
     },
     "execution_count": 18,
     "metadata": {},
     "output_type": "execute_result"
    }
   ],
   "source": [
    "palabras_interesantes = [(palabra, fdist[palabra]) for palabra in set(text1) if len(palabra)>5 and fdist[palabra]>10]\n",
    "dtypes = [('word', 'S10'), ('frequency', int)]\n",
    "palabras_interesantes = np.array(palabras_interesantes, dtype=dtypes)\n",
    "palabras_ordenadas = np.sort(palabras_interesantes, order = 'frequency')\n",
    "palabras_ordenadas[-20:] # top de palabras mas frecuentes"
   ]
  },
  {
   "cell_type": "code",
   "execution_count": 19,
   "metadata": {
    "colab": {
     "base_uri": "https://localhost:8080/",
     "height": 422
    },
    "executionInfo": {
     "elapsed": 1232,
     "status": "ok",
     "timestamp": 1628596086418,
     "user": {
      "displayName": "Sumit Kumar Jethani Jethani",
      "photoUrl": "",
      "userId": "10176846141695721990"
     },
     "user_tz": -60
    },
    "id": "WXoOpKx5Qzhh",
    "outputId": "9f619bef-a86c-460a-8109-393785683f8d"
   },
   "outputs": [
    {
     "data": {
      "image/png": "[encoded data removed]",
      "text/plain": [
       "<Figure size 720x360 with 1 Axes>"
      ]
     },
     "metadata": {
      "needs_background": "light"
     },
     "output_type": "display_data"
    }
   ],
   "source": [
    "# Construccion de un grafico de barras customizado con Matplotlib\n",
    "# https://matplotlib.org/3.1.1/gallery/ticks_and_spines/custom_ticker1.html#sphx-glr-gallery-ticks-and-spines-custom-ticker1-py\n",
    "top_words = 20\n",
    "x = np.arange(len(palabras_ordenadas[-top_words:]))\n",
    "y = [freq[1] for freq in palabras_ordenadas[-top_words:]]\n",
    "plt.figure(figsize=(10,5))\n",
    "plt.plot(x, y)\n",
    "plt.xticks(x, [str(freq[0]) for freq in palabras_ordenadas[-top_words:]], rotation = 'vertical')\n",
    "plt.tick_params(labelsize = 'xx-large')\n",
    "plt.grid(True)\n",
    "plt.show()"
   ]
  }
 ],
 "metadata": {
  "colab": {
   "collapsed_sections": [],
   "name": "texts_vocab_statistics.ipynb",
   "provenance": []
  },
  "kernelspec": {
   "display_name": "Python 3 (ipykernel)",
   "language": "python",
   "name": "python3"
  },
  "language_info": {
   "codemirror_mode": {
    "name": "ipython",
    "version": 3
   },
   "file_extension": ".py",
   "mimetype": "text/x-python",
   "name": "python",
   "nbconvert_exporter": "python",
   "pygments_lexer": "ipython3",
   "version": "3.9.6"
  }
 },
 "nbformat": 4,
 "nbformat_minor": 1
}
