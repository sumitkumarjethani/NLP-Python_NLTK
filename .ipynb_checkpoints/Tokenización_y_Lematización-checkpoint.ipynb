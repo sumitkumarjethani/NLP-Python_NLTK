{
 "cells": [
  {
   "cell_type": "code",
   "execution_count": 4,
   "metadata": {},
   "outputs": [
    {
     "data": {
      "text/plain": [
       "'C:\\\\Users\\\\sumit\\\\OneDrive\\\\Escritorio\\\\Universidad\\\\P_Curriculares'"
      ]
     },
     "execution_count": 4,
     "metadata": {},
     "output_type": "execute_result"
    }
   ],
   "source": [
    "import sys\n",
    "sys.path.append('C:/Users/sumit/OneDrive/Escritorio/Universidad/P_Curriculares/venv/Lib/site-packages')\n",
    "\n",
    "%pwd"
   ]
  },
  {
   "cell_type": "markdown",
   "metadata": {
    "id": "6_T-8Ff0mc6y"
   },
   "source": [
    "# **Como usar NLTK en Google Colab**"
   ]
  },
  {
   "cell_type": "code",
   "execution_count": 5,
   "metadata": {
    "colab": {
     "base_uri": "https://localhost:8080/"
    },
    "executionInfo": {
     "elapsed": 2527,
     "status": "ok",
     "timestamp": 1628532155100,
     "user": {
      "displayName": "Sumit Kumar Jethani Jethani",
      "photoUrl": "",
      "userId": "10176846141695721990"
     },
     "user_tz": -60
    },
    "id": "6fuk75qphe8f",
    "outputId": "ffaf53e4-9a71-425f-aa16-4fa327aae7c4"
   },
   "outputs": [
    {
     "name": "stderr",
     "output_type": "stream",
     "text": [
      "[nltk_data] Downloading package cess_esp to\n",
      "[nltk_data]     C:\\Users\\sumit\\AppData\\Roaming\\nltk_data...\n",
      "[nltk_data]   Unzipping corpora\\cess_esp.zip.\n"
     ]
    },
    {
     "data": {
      "text/plain": [
       "True"
      ]
     },
     "execution_count": 5,
     "metadata": {},
     "output_type": "execute_result"
    }
   ],
   "source": [
    "#seleccionar download [d], luego descargar el recurso de nombre \"book\"\n",
    "import nltk\n",
    "nltk.download('cess_esp')"
   ]
  },
  {
   "cell_type": "markdown",
   "metadata": {
    "id": "ARpUziJ6m4y-"
   },
   "source": [
    "# **Expresiones Regulares**\n",
    "\n",
    "\n",
    "*   Constituyen un lenguaje estandarizado para definir cadenas de búsqueda de texto.\n",
    "*   Libreria de operaciones con  expresiones regulares de Python [re](https://docs.python.org/3/library/re.html)\n",
    "*   Reglas para escribir expresiones regulares [Wiki](https://es.wikipedia.org/wiki/Expresión_regular)\n",
    "\n"
   ]
  },
  {
   "cell_type": "code",
   "execution_count": 6,
   "metadata": {
    "colab": {
     "base_uri": "https://localhost:8080/"
    },
    "executionInfo": {
     "elapsed": 6643,
     "status": "ok",
     "timestamp": 1628532168807,
     "user": {
      "displayName": "Sumit Kumar Jethani Jethani",
      "photoUrl": "",
      "userId": "10176846141695721990"
     },
     "user_tz": -60
    },
    "id": "OYt70VjHn4DT",
    "outputId": "a6080dc5-7287-444a-bc11-b41305dfa59e"
   },
   "outputs": [
    {
     "name": "stdout",
     "output_type": "stream",
     "text": [
      "[['El', 'grupo', 'estatal', 'Electricité_de_France', '-Fpa-', 'EDF', '-Fpt-', 'anunció', 'hoy', ',', 'jueves', ',', 'la', 'compra', 'del', '51_por_ciento', 'de', 'la', 'empresa', 'mexicana', 'Electricidad_Águila_de_Altamira', '-Fpa-', 'EAA', '-Fpt-', ',', 'creada', 'por', 'el', 'japonés', 'Mitsubishi_Corporation', 'para', 'poner_en_marcha', 'una', 'central', 'de', 'gas', 'de', '495', 'megavatios', '.'], ['Una', 'portavoz', 'de', 'EDF', 'explicó', 'a', 'EFE', 'que', 'el', 'proyecto', 'para', 'la', 'construcción', 'de', 'Altamira_2', ',', 'al', 'norte', 'de', 'Tampico', ',', 'prevé', 'la', 'utilización', 'de', 'gas', 'natural', 'como', 'combustible', 'principal', 'en', 'una', 'central', 'de', 'ciclo', 'combinado', 'que', 'debe', 'empezar', 'a', 'funcionar', 'en', 'mayo_del_2002', '.'], ...]\n",
      "6030\n"
     ]
    }
   ],
   "source": [
    "# spanish Corpus: https://mailman.uib.no/public/corpora/2007-October/005448.html\n",
    "import re\n",
    "corpus = nltk.corpus.cess_esp.sents() \n",
    "print(corpus)\n",
    "print(len(corpus))"
   ]
  },
  {
   "cell_type": "code",
   "execution_count": 7,
   "metadata": {
    "colab": {
     "base_uri": "https://localhost:8080/"
    },
    "executionInfo": {
     "elapsed": 8166,
     "status": "ok",
     "timestamp": 1628532186475,
     "user": {
      "displayName": "Sumit Kumar Jethani Jethani",
      "photoUrl": "",
      "userId": "10176846141695721990"
     },
     "user_tz": -60
    },
    "id": "HV7LSLQZqIHf",
    "outputId": "67b12ae3-fc6a-4fbf-b8f3-a99fa88e5e26"
   },
   "outputs": [
    {
     "name": "stdout",
     "output_type": "stream",
     "text": [
      "['El', 'grupo', 'estatal', 'Electricité_de_France', '-Fpa-', 'EDF', '-Fpt-', 'anunció', 'hoy', ',', 'jueves', ',', 'la', 'compra', 'del', '51_por_ciento', 'de', 'la', 'empresa', 'mexicana', 'Electricidad_Águila_de_Altamira', '-Fpa-', 'EAA', '-Fpt-', ',', 'creada', 'por', 'el', 'japonés', 'Mitsubishi_Corporation', 'para', 'poner_en_marcha', 'una', 'central', 'de', 'gas', 'de', '495', 'megavatios', '.', 'Una', 'portavoz', 'de', 'EDF', 'explicó', 'a', 'EFE', 'que', 'el', 'proyecto', 'para', 'la', 'construcción', 'de', 'Altamira_2', ',', 'al', 'norte', 'de', 'Tampico', ',', 'prevé', 'la', 'utilización', 'de', 'gas', 'natural', 'como', 'combustible', 'principal', 'en', 'una', 'central', 'de', 'ciclo', 'combinado', 'que', 'debe', 'empezar', 'a', 'funcionar', 'en', 'mayo_del_2002', '.', 'La', 'electricidad', 'producida', 'pasará', 'a', 'la', 'red', 'eléctrica', 'pública', 'de', 'México', 'en_virtud_de', 'un', 'acuerdo', 'de', 'venta']\n",
      "192686\n"
     ]
    }
   ],
   "source": [
    "flatten = [w for l in corpus for w in l]\n",
    "print(flatten[:100])\n",
    "print(len(flatten))"
   ]
  },
  {
   "cell_type": "markdown",
   "metadata": {
    "id": "GJqD6PIxr3EO"
   },
   "source": [
    "### **Estructura de la funcion re.search()**\n",
    "```\n",
    "# Determina si el patron de búsqueda p esta contenido en la cadena s\n",
    "re.seach(p, s)\n",
    "```\n",
    "\n"
   ]
  },
  {
   "cell_type": "code",
   "execution_count": 8,
   "metadata": {
    "colab": {
     "base_uri": "https://localhost:8080/"
    },
    "executionInfo": {
     "elapsed": 428,
     "status": "ok",
     "timestamp": 1628532206159,
     "user": {
      "displayName": "Sumit Kumar Jethani Jethani",
      "photoUrl": "",
      "userId": "10176846141695721990"
     },
     "user_tz": -60
    },
    "id": "Xo5mGuUUrs2Z",
    "outputId": "8a2da9dd-07fb-47e3-be2e-f28f2c50d078"
   },
   "outputs": [
    {
     "data": {
      "text/plain": [
       "['estatal', 'jueves', 'empresa', 'centrales', 'francesa']"
      ]
     },
     "execution_count": 8,
     "metadata": {},
     "output_type": "execute_result"
    }
   ],
   "source": [
    "# Meta-caracteres básicos\n",
    "arr = [w for w in flatten if re.search('es', w)]\n",
    "arr[:5]"
   ]
  },
  {
   "cell_type": "code",
   "execution_count": 9,
   "metadata": {
    "colab": {
     "base_uri": "https://localhost:8080/"
    },
    "executionInfo": {
     "elapsed": 394,
     "status": "ok",
     "timestamp": 1628532258694,
     "user": {
      "displayName": "Sumit Kumar Jethani Jethani",
      "photoUrl": "",
      "userId": "10176846141695721990"
     },
     "user_tz": -60
    },
    "id": "UB4Jmzhkutj_",
    "outputId": "a98bb23d-984b-49b2-cd88-ccb305c7f348"
   },
   "outputs": [
    {
     "data": {
      "text/plain": [
       "['jueves', 'centrales', 'millones', 'millones', 'dólares']"
      ]
     },
     "execution_count": 9,
     "metadata": {},
     "output_type": "execute_result"
    }
   ],
   "source": [
    "arr = [w for w in flatten if re.search('es$', w)]\n",
    "arr[:5]"
   ]
  },
  {
   "cell_type": "code",
   "execution_count": 10,
   "metadata": {
    "colab": {
     "base_uri": "https://localhost:8080/"
    },
    "executionInfo": {
     "elapsed": 420,
     "status": "ok",
     "timestamp": 1628532368262,
     "user": {
      "displayName": "Sumit Kumar Jethani Jethani",
      "photoUrl": "",
      "userId": "10176846141695721990"
     },
     "user_tz": -60
    },
    "id": "W4l-5006wDGT",
    "outputId": "faf6368f-85ed-4387-d6ec-4275b2ae0b34"
   },
   "outputs": [
    {
     "data": {
      "text/plain": [
       "['tajantes']"
      ]
     },
     "execution_count": 10,
     "metadata": {},
     "output_type": "execute_result"
    }
   ],
   "source": [
    "arr = [w for w in flatten if re.search('^..j..t..$', w)]\n",
    "arr"
   ]
  },
  {
   "cell_type": "code",
   "execution_count": 11,
   "metadata": {
    "colab": {
     "base_uri": "https://localhost:8080/"
    },
    "executionInfo": {
     "elapsed": 400,
     "status": "ok",
     "timestamp": 1628532438932,
     "user": {
      "displayName": "Sumit Kumar Jethani Jethani",
      "photoUrl": "",
      "userId": "10176846141695721990"
     },
     "user_tz": -60
    },
    "id": "BsOTXCVHwbbA",
    "outputId": "47151e3d-d424-4c54-90f7-328efb07f9ce"
   },
   "outputs": [
    {
     "data": {
      "text/plain": [
       "['golf', 'golf']"
      ]
     },
     "execution_count": 11,
     "metadata": {},
     "output_type": "execute_result"
    }
   ],
   "source": [
    "#Rangos [a-z], [A-Z], [0-9]\n",
    "arr = [w for w in flatten if re.search('^[ghi][mno][jlk][def]$', w)]\n",
    "arr"
   ]
  },
  {
   "cell_type": "code",
   "execution_count": 12,
   "metadata": {
    "colab": {
     "base_uri": "https://localhost:8080/"
    },
    "executionInfo": {
     "elapsed": 419,
     "status": "ok",
     "timestamp": 1628532585301,
     "user": {
      "displayName": "Sumit Kumar Jethani Jethani",
      "photoUrl": "",
      "userId": "10176846141695721990"
     },
     "user_tz": -60
    },
    "id": "63AMmVplxmoX",
    "outputId": "775c2a14-abc5-43e3-81bb-be9e5ac9e464"
   },
   "outputs": [
    {
     "data": {
      "text/plain": [
       "['El',\n",
       " 'grupo',\n",
       " 'estatal',\n",
       " 'Electricité_de_France',\n",
       " '-Fpa-',\n",
       " 'EDF',\n",
       " '-Fpt-',\n",
       " 'anunció',\n",
       " 'hoy',\n",
       " ',']"
      ]
     },
     "execution_count": 12,
     "metadata": {},
     "output_type": "execute_result"
    }
   ],
   "source": [
    "#Clausuras *, * (Kleene closures)\n",
    "arr = [w for w in flatten if re.search('^(no)*', w)]\n",
    "arr[:10]"
   ]
  },
  {
   "cell_type": "code",
   "execution_count": 13,
   "metadata": {
    "colab": {
     "base_uri": "https://localhost:8080/"
    },
    "executionInfo": {
     "elapsed": 420,
     "status": "ok",
     "timestamp": 1628532646097,
     "user": {
      "displayName": "Sumit Kumar Jethani Jethani",
      "photoUrl": "",
      "userId": "10176846141695721990"
     },
     "user_tz": -60
    },
    "id": "tHH8YgfTy_uh",
    "outputId": "d086b2e1-50f3-4119-9187-4a2336c3b1fc"
   },
   "outputs": [
    {
     "data": {
      "text/plain": [
       "['norte', 'no', 'no', 'noche', 'no', 'no', 'notificación', 'no', 'no', 'no']"
      ]
     },
     "execution_count": 13,
     "metadata": {},
     "output_type": "execute_result"
    }
   ],
   "source": [
    "arr = [w for w in flatten if re.search('^(no)+', w)]\n",
    "arr[:10]"
   ]
  },
  {
   "cell_type": "markdown",
   "metadata": {
    "id": "MBWZl5Sf0ID0"
   },
   "source": [
    "# **Normalización de Texto** (como aplicación de las expresiones regulares)\n"
   ]
  },
  {
   "cell_type": "markdown",
   "metadata": {
    "id": "0-3Gr4tRj-Y_"
   },
   "source": [
    "## **Tokenización:** Es el proceso mediante el cual se sub-divide una cadena de texto en unidades linguísticas minimas (palabras)\n"
   ]
  },
  {
   "cell_type": "code",
   "execution_count": 14,
   "metadata": {
    "colab": {
     "base_uri": "https://localhost:8080/"
    },
    "executionInfo": {
     "elapsed": 389,
     "status": "ok",
     "timestamp": 1628532847889,
     "user": {
      "displayName": "Sumit Kumar Jethani Jethani",
      "photoUrl": "",
      "userId": "10176846141695721990"
     },
     "user_tz": -60
    },
    "id": "vNwS7E8GiuDS",
    "outputId": "9f7b8c5b-5a5e-49ba-8c83-6bd4b7fcd54b"
   },
   "outputs": [
    {
     "name": "stdout",
     "output_type": "stream",
     "text": [
      " Cuando sea el rey del mundo  (imaginaba él en su cabeza) no tendré que  preocuparme por estas bobadas. \n",
      "            Era solo un niño de 7 años, pero pensaba que podría ser cualquier cosa que su imaginación le permitiera visualizar en su cabeza ...\n"
     ]
    }
   ],
   "source": [
    "texto = \"\"\" Cuando sea el rey del mundo  (imaginaba él en su cabeza) no tendré que  preocuparme por estas bobadas. \n",
    "            Era solo un niño de 7 años, pero pensaba que podría ser cualquier cosa que su imaginación le permitiera visualizar en su cabeza ...\"\"\"\n",
    "print(texto)"
   ]
  },
  {
   "cell_type": "code",
   "execution_count": 15,
   "metadata": {
    "colab": {
     "base_uri": "https://localhost:8080/"
    },
    "executionInfo": {
     "elapsed": 529,
     "status": "ok",
     "timestamp": 1628532877366,
     "user": {
      "displayName": "Sumit Kumar Jethani Jethani",
      "photoUrl": "",
      "userId": "10176846141695721990"
     },
     "user_tz": -60
    },
    "id": "BkS7xN_ulYP_",
    "outputId": "25fa27a6-e49f-4a85-ded0-083ff988caa1"
   },
   "outputs": [
    {
     "name": "stdout",
     "output_type": "stream",
     "text": [
      "['', 'Cuando', 'sea', 'el', 'rey', 'del', 'mundo', '', '(imaginaba', 'él', 'en', 'su', 'cabeza)', 'no', 'tendré', 'que', '', 'preocuparme', 'por', 'estas', 'bobadas.', '\\n', '', '', '', '', '', '', '', '', '', '', '', 'Era', 'solo', 'un', 'niño', 'de', '7', 'años,', 'pero', 'pensaba', 'que', 'podría', 'ser', 'cualquier', 'cosa', 'que', 'su', 'imaginación', 'le', 'permitiera', 'visualizar', 'en', 'su', 'cabeza', '...']\n"
     ]
    }
   ],
   "source": [
    "# Caso 1: tokenizacion más simple: por espacios vacios !\n",
    "print(re.split(r' ', texto))"
   ]
  },
  {
   "cell_type": "code",
   "execution_count": 16,
   "metadata": {
    "colab": {
     "base_uri": "https://localhost:8080/"
    },
    "executionInfo": {
     "elapsed": 408,
     "status": "ok",
     "timestamp": 1628533059028,
     "user": {
      "displayName": "Sumit Kumar Jethani Jethani",
      "photoUrl": "",
      "userId": "10176846141695721990"
     },
     "user_tz": -60
    },
    "id": "byIH7y5QllB5",
    "outputId": "008bb6a2-ab2f-4b50-e359-1461b4f03d9d"
   },
   "outputs": [
    {
     "name": "stdout",
     "output_type": "stream",
     "text": [
      "['', 'Cuando', 'sea', 'el', 'rey', 'del', 'mundo', '(imaginaba', 'él', 'en', 'su', 'cabeza)', 'no', 'tendré', 'que', 'preocuparme', 'por', 'estas', 'bobadas.', 'Era', 'solo', 'un', 'niño', 'de', '7', 'años,', 'pero', 'pensaba', 'que', 'podría', 'ser', 'cualquier', 'cosa', 'que', 'su', 'imaginación', 'le', 'permitiera', 'visualizar', 'en', 'su', 'cabeza', '...']\n"
     ]
    }
   ],
   "source": [
    "# Caso 2: tokenización usando expresiones regulares\n",
    "print(re.split(r'[ \\t\\n]+', texto))"
   ]
  },
  {
   "cell_type": "code",
   "execution_count": 17,
   "metadata": {
    "colab": {
     "base_uri": "https://localhost:8080/"
    },
    "executionInfo": {
     "elapsed": 428,
     "status": "ok",
     "timestamp": 1628533119439,
     "user": {
      "displayName": "Sumit Kumar Jethani Jethani",
      "photoUrl": "",
      "userId": "10176846141695721990"
     },
     "user_tz": -60
    },
    "id": "hliGNzLK1MMd",
    "outputId": "90c3b5f4-2a72-48a3-b3bd-f4d168e3b902"
   },
   "outputs": [
    {
     "name": "stdout",
     "output_type": "stream",
     "text": [
      "['', 'Cuando', 'sea', 'el', 'rey', 'del', 'mundo', 'imaginaba', 'él', 'en', 'su', 'cabeza', 'no', 'tendré', 'que', 'preocuparme', 'por', 'estas', 'bobadas', 'Era', 'solo', 'un', 'niño', 'de', '7', 'años', 'pero', 'pensaba', 'que', 'podría', 'ser', 'cualquier', 'cosa', 'que', 'su', 'imaginación', 'le', 'permitiera', 'visualizar', 'en', 'su', 'cabeza', '']\n"
     ]
    }
   ],
   "source": [
    "# RegEx reference: \\W -> all characters other than letters, digits or underscore\n",
    "print(re.split(r'[ \\W\\t\\n]+', texto))"
   ]
  },
  {
   "cell_type": "markdown",
   "metadata": {
    "id": "lyflLu-z3RXk"
   },
   "source": [
    "## **Tokenizador de NLTK**"
   ]
  },
  {
   "cell_type": "code",
   "execution_count": 18,
   "metadata": {
    "colab": {
     "base_uri": "https://localhost:8080/"
    },
    "executionInfo": {
     "elapsed": 398,
     "status": "ok",
     "timestamp": 1628533193189,
     "user": {
      "displayName": "Sumit Kumar Jethani Jethani",
      "photoUrl": "",
      "userId": "10176846141695721990"
     },
     "user_tz": -60
    },
    "id": "uvHYj9O_1wb4",
    "outputId": "25cebb7a-caca-462e-91c6-e96ff6941124"
   },
   "outputs": [
    {
     "name": "stdout",
     "output_type": "stream",
     "text": [
      "['En', 'los', 'E', 'U', 'esa', 'postal', 'vale', '15', '50', '']\n"
     ]
    }
   ],
   "source": [
    "# nuestra antigua regex no funciona en este caso: \n",
    "texto = 'En los E.U. esa postal vale $15.50 ...'\n",
    "print(re.split(r'[ \\W\\t\\n]+', texto))"
   ]
  },
  {
   "cell_type": "code",
   "execution_count": 19,
   "metadata": {
    "colab": {
     "base_uri": "https://localhost:8080/"
    },
    "executionInfo": {
     "elapsed": 419,
     "status": "ok",
     "timestamp": 1628533282650,
     "user": {
      "displayName": "Sumit Kumar Jethani Jethani",
      "photoUrl": "",
      "userId": "10176846141695721990"
     },
     "user_tz": -60
    },
    "id": "tLDA7ARv3my9",
    "outputId": "bfa92385-73bc-4699-8895-2d25624f3842"
   },
   "outputs": [
    {
     "data": {
      "text/plain": [
       "['En', 'los', 'E.U.', 'esa', 'postal', 'vale', '$15.50', '...']"
      ]
     },
     "execution_count": 19,
     "metadata": {},
     "output_type": "execute_result"
    }
   ],
   "source": [
    "pattern = r'''(?x)                 # set flag to allow verbose regexps\n",
    "              (?:[A-Z]\\.)+         # abbreviations, e.g. U.S.A.\n",
    "              | \\w+(?:-\\w+)*       # words with optional internal hyphens\n",
    "              | \\$?\\d+(?:\\.\\d+)?%? # currency and percentages, e.g. $12.40, 82%\n",
    "              | \\.\\.\\.             # ellipsis\n",
    "              | [][.,;\"'?():-_`]   # these are separate tokens; includes ], [\n",
    "'''\n",
    "nltk.regexp_tokenize(texto, pattern)"
   ]
  },
  {
   "cell_type": "markdown",
   "metadata": {
    "id": "NGKfeofg43c6"
   },
   "source": [
    "## **Lematización:** Proceso para encontrar la raíz linguística de una palabra\n",
    "\n",
    "*   Derivación (stemming) : lematización simple\n",
    "\n",
    "[SnowballStemmer]https://pypi.org/project/snowballstemmer/\n",
    "[SnowballStemmer]https://www.kite.com/python/docs/nltk.SnowballStemmer\n",
    "\n"
   ]
  },
  {
   "cell_type": "code",
   "execution_count": 21,
   "metadata": {
    "colab": {
     "base_uri": "https://localhost:8080/"
    },
    "executionInfo": {
     "elapsed": 423,
     "status": "ok",
     "timestamp": 1628534471506,
     "user": {
      "displayName": "Sumit Kumar Jethani Jethani",
      "photoUrl": "",
      "userId": "10176846141695721990"
     },
     "user_tz": -60
    },
    "id": "EhagNIrEN8G5",
    "outputId": "3be6ea2f-1016-48a0-dd63-e116d53adc0e"
   },
   "outputs": [
    {
     "name": "stdout",
     "output_type": "stream",
     "text": [
      "['We', 'are', 'love', 'the', 'world']\n"
     ]
    }
   ],
   "source": [
    "import snowballstemmer\n",
    "\n",
    "stemmer = snowballstemmer.stemmer('english');\n",
    "print(stemmer.stemWords(\"We are loving the world\".split()));"
   ]
  },
  {
   "cell_type": "code",
   "execution_count": 22,
   "metadata": {
    "colab": {
     "base_uri": "https://localhost:8080/"
    },
    "executionInfo": {
     "elapsed": 407,
     "status": "ok",
     "timestamp": 1628534422123,
     "user": {
      "displayName": "Sumit Kumar Jethani Jethani",
      "photoUrl": "",
      "userId": "10176846141695721990"
     },
     "user_tz": -60
    },
    "id": "TJ7AKL-y6XO9",
    "outputId": "6c99ba26-a166-4ab0-d1de-bb6410ef950f"
   },
   "outputs": [
    {
     "data": {
      "text/plain": [
       "('arabic',\n",
       " 'danish',\n",
       " 'dutch',\n",
       " 'english',\n",
       " 'finnish',\n",
       " 'french',\n",
       " 'german',\n",
       " 'hungarian',\n",
       " 'italian',\n",
       " 'norwegian',\n",
       " 'porter',\n",
       " 'portuguese',\n",
       " 'romanian',\n",
       " 'russian',\n",
       " 'spanish',\n",
       " 'swedish')"
      ]
     },
     "execution_count": 22,
     "metadata": {},
     "output_type": "execute_result"
    }
   ],
   "source": [
    "# Derivación simple\n",
    "from nltk import word_tokenize\n",
    "from nltk.stem.snowball import SnowballStemmer\n",
    "SnowballStemmer.languages"
   ]
  },
  {
   "cell_type": "code",
   "execution_count": 23,
   "metadata": {
    "colab": {
     "base_uri": "https://localhost:8080/"
    },
    "executionInfo": {
     "elapsed": 500,
     "status": "ok",
     "timestamp": 1628534674347,
     "user": {
      "displayName": "Sumit Kumar Jethani Jethani",
      "photoUrl": "",
      "userId": "10176846141695721990"
     },
     "user_tz": -60
    },
    "id": "e9Ms30n8-cC2",
    "outputId": "8d9b5c4c-82b5-4dc9-b33e-a235c2eced0e"
   },
   "outputs": [
    {
     "name": "stdout",
     "output_type": "stream",
     "text": [
      "trabaj\n",
      "aparc\n",
      "aparcab\n"
     ]
    }
   ],
   "source": [
    "stem = SnowballStemmer('spanish')\n",
    "print(stem.stem('trabajando'))\n",
    "print(stem.stem('aparcamiento'))\n",
    "print(stem.stem('aparcabaís'))\n",
    "\n"
   ]
  },
  {
   "cell_type": "code",
   "execution_count": 26,
   "metadata": {},
   "outputs": [
    {
     "name": "stderr",
     "output_type": "stream",
     "text": [
      "[nltk_data] Downloading package wordnet to\n",
      "[nltk_data]     C:\\Users\\sumit\\AppData\\Roaming\\nltk_data...\n",
      "[nltk_data]   Unzipping corpora\\wordnet.zip.\n"
     ]
    },
    {
     "data": {
      "text/plain": [
       "True"
      ]
     },
     "execution_count": 26,
     "metadata": {},
     "output_type": "execute_result"
    }
   ],
   "source": [
    "nltk.download('wordnet')"
   ]
  },
  {
   "cell_type": "code",
   "execution_count": 27,
   "metadata": {
    "id": "MHIQIyDL-O68"
   },
   "outputs": [],
   "source": [
    "# Lematización\n",
    "from nltk.stem import WordNetLemmatizer\n",
    "lemm = WordNetLemmatizer()"
   ]
  },
  {
   "cell_type": "markdown",
   "metadata": {},
   "source": [
    "[WordNetLemmatizer] http://www.nltk.org/api/nltk.stem.html?highlight=lemmatizer\n",
    "\n",
    "**WordNet Lemmatizer**\n",
    "\n",
    "***Lemmatize using WordNet’s built-in morphy function. Returns the input word unchanged if it cannot be found in WordNet.***"
   ]
  },
  {
   "cell_type": "code",
   "execution_count": 32,
   "metadata": {
    "colab": {
     "base_uri": "https://localhost:8080/",
     "height": 32
    },
    "executionInfo": {
     "elapsed": 421,
     "status": "ok",
     "timestamp": 1581907541479,
     "user": {
      "displayName": "Francisco Camacho",
      "photoUrl": "https://lh3.googleusercontent.com/a-/AAuE7mCUaNNj72-A-ZLpzeOCw1kooH47L4wGZaSy6fUG=s64",
      "userId": "03320326049189164988"
     },
     "user_tz": 300
    },
    "id": "ezzA3MpTAu3y",
    "outputId": "00883200-170d-4af5-c283-80fb349de6da"
   },
   "outputs": [
    {
     "name": "stdout",
     "output_type": "stream",
     "text": [
      "dog\n"
     ]
    }
   ],
   "source": [
    "print(lemm.lemmatize('dogs'))"
   ]
  }
 ],
 "metadata": {
  "colab": {
   "collapsed_sections": [],
   "name": "Tokenización_y_Lematización.ipynb",
   "provenance": []
  },
  "kernelspec": {
   "display_name": "Python 3 (ipykernel)",
   "language": "python",
   "name": "python3"
  },
  "language_info": {
   "codemirror_mode": {
    "name": "ipython",
    "version": 3
   },
   "file_extension": ".py",
   "mimetype": "text/x-python",
   "name": "python",
   "nbconvert_exporter": "python",
   "pygments_lexer": "ipython3",
   "version": "3.9.6"
  }
 },
 "nbformat": 4,
 "nbformat_minor": 1
}
