{
 "cells": [
  {
   "cell_type": "code",
   "execution_count": 2,
   "metadata": {},
   "outputs": [
    {
     "data": {
      "text/plain": [
       "'C:\\\\Users\\\\sumit\\\\OneDrive\\\\Escritorio\\\\Universidad\\\\P_Curriculares'"
      ]
     },
     "execution_count": 2,
     "metadata": {},
     "output_type": "execute_result"
    }
   ],
   "source": [
    "import sys\n",
    "sys.path.append('C:/Users/sumit/OneDrive/Escritorio/Universidad/P_Curriculares/venv/Lib/site-packages')\n",
    "\n",
    "%pwd"
   ]
  },
  {
   "cell_type": "code",
   "execution_count": 3,
   "metadata": {
    "colab": {},
    "colab_type": "code",
    "id": "dlLUY3dJ2TN4"
   },
   "outputs": [
    {
     "name": "stdout",
     "output_type": "stream",
     "text": [
      "*** Introductory Examples for the NLTK Book ***\n",
      "Loading text1, ..., text9 and sent1, ..., sent9\n",
      "Type the name of the text or sentence to view it.\n",
      "Type: 'texts()' or 'sents()' to list the materials.\n",
      "text1: Moby Dick by Herman Melville 1851\n",
      "text2: Sense and Sensibility by Jane Austen 1811\n",
      "text3: The Book of Genesis\n",
      "text4: Inaugural Address Corpus\n",
      "text5: Chat Corpus\n",
      "text6: Monty Python and the Holy Grail\n",
      "text7: Wall Street Journal\n",
      "text8: Personals Corpus\n",
      "text9: The Man Who Was Thursday by G . K . Chesterton 1908\n"
     ]
    }
   ],
   "source": [
    "import nltk \n",
    "from nltk.book import *\n",
    "from nltk.corpus import stopwords # Recursos léxicos"
   ]
  },
  {
   "cell_type": "markdown",
   "metadata": {
    "colab_type": "text",
    "id": "1kPN1HL8jzDj"
   },
   "source": [
    "# Recursos léxicos (lexicons)\n",
    "\n",
    "*   Son colecciones de palabras o frases que tienen asociadas etiquetas o meta-informacion de algún tipo (POS tags, significados gramaticales, etc ...)\n",
    "\n",
    "**comentario:** POS (Part of Speech), también llamado etiquetado gramatical o etiquetado de palabras por categorias, consiste en etiquetar la categoria gramatical a la que pertence cada palabra en un volumen de texto, siendo las **categorias**: \n",
    "\n",
    "1.   Sustantivos\n",
    "2.   Adjetivos\n",
    "3.   Articulos\n",
    "4.   Pronombres\n",
    "5.   Verbos\n",
    "6.   Adverbios\n",
    "7.   Interjecciones\n",
    "8.   Preposiciones\n",
    "9.   Conjunciones"
   ]
  },
  {
   "cell_type": "code",
   "execution_count": 7,
   "metadata": {
    "colab": {},
    "colab_type": "code",
    "id": "J4WrToBljd-t"
   },
   "outputs": [
    {
     "data": {
      "text/plain": [
       "['!',\n",
       " '!\"',\n",
       " '!\"--',\n",
       " \"!'\",\n",
       " '!\\'\"',\n",
       " '!)',\n",
       " '!)\"',\n",
       " '!*',\n",
       " '!--',\n",
       " '!--\"',\n",
       " \"!--'\",\n",
       " '\"',\n",
       " '\"\\'',\n",
       " '\"--',\n",
       " '\"...',\n",
       " '\";',\n",
       " '$',\n",
       " '&',\n",
       " \"'\",\n",
       " \"',\",\n",
       " \"',--\",\n",
       " \"'-\",\n",
       " \"'--\",\n",
       " \"';\",\n",
       " '(',\n",
       " ')',\n",
       " '),',\n",
       " ')--',\n",
       " ').',\n",
       " ').--',\n",
       " '):',\n",
       " ');',\n",
       " ');--',\n",
       " '*',\n",
       " ',',\n",
       " ',\"',\n",
       " ',\"--',\n",
       " \",'\",\n",
       " \",'--\",\n",
       " ',)',\n",
       " ',*',\n",
       " ',--',\n",
       " ',--\"',\n",
       " \",--'\",\n",
       " '-',\n",
       " '--',\n",
       " '--\"',\n",
       " \"--'\",\n",
       " '--\\'\"',\n",
       " '--(',\n",
       " '---\"',\n",
       " '---,',\n",
       " '.',\n",
       " '.\"',\n",
       " '.\"*',\n",
       " '.\"--',\n",
       " \".'\",\n",
       " '.\\'\"',\n",
       " '.)',\n",
       " '.*',\n",
       " '.*--',\n",
       " '.,',\n",
       " '.--',\n",
       " '.--\"',\n",
       " '...',\n",
       " '....',\n",
       " '.]',\n",
       " '000',\n",
       " '1',\n",
       " '10',\n",
       " '100',\n",
       " '101',\n",
       " '102',\n",
       " '103',\n",
       " '104',\n",
       " '105',\n",
       " '106',\n",
       " '107',\n",
       " '108',\n",
       " '109',\n",
       " '11',\n",
       " '110',\n",
       " '111',\n",
       " '112',\n",
       " '113',\n",
       " '114',\n",
       " '115',\n",
       " '116',\n",
       " '117',\n",
       " '118',\n",
       " '119',\n",
       " '12',\n",
       " '120',\n",
       " '121',\n",
       " '122',\n",
       " '123',\n",
       " '124',\n",
       " '125',\n",
       " '126',\n",
       " '127',\n",
       " '128',\n",
       " '129',\n",
       " '13',\n",
       " '130',\n",
       " '131',\n",
       " '132',\n",
       " '133',\n",
       " '134',\n",
       " '135',\n",
       " '14',\n",
       " '144',\n",
       " '1492',\n",
       " '15',\n",
       " '150',\n",
       " '15th',\n",
       " '16',\n",
       " '1652',\n",
       " '1668',\n",
       " '1671',\n",
       " '1690',\n",
       " '1695',\n",
       " '16th',\n",
       " '17',\n",
       " '1726',\n",
       " '1729',\n",
       " '1750',\n",
       " '1772',\n",
       " '1775',\n",
       " '1776',\n",
       " '1778',\n",
       " '1779',\n",
       " '1788',\n",
       " '1791',\n",
       " '1793',\n",
       " '18',\n",
       " '180',\n",
       " '1807',\n",
       " '1819',\n",
       " '1820',\n",
       " '1821',\n",
       " '1825',\n",
       " '1828',\n",
       " '1833',\n",
       " '1836',\n",
       " '1839',\n",
       " '1840',\n",
       " '1842',\n",
       " '1846',\n",
       " '1850',\n",
       " '1851',\n",
       " '19',\n",
       " '1ST',\n",
       " '1st',\n",
       " '2',\n",
       " '20',\n",
       " '2000',\n",
       " '200th',\n",
       " '21',\n",
       " '21st',\n",
       " '22',\n",
       " '23',\n",
       " '24',\n",
       " '25',\n",
       " '26',\n",
       " '27',\n",
       " '275th',\n",
       " '28',\n",
       " '29',\n",
       " '2ND',\n",
       " '3',\n",
       " '30',\n",
       " '31',\n",
       " '31st',\n",
       " '32',\n",
       " '33',\n",
       " '34',\n",
       " '35',\n",
       " '36',\n",
       " '37',\n",
       " '38',\n",
       " '39',\n",
       " '3D',\n",
       " '3d',\n",
       " '4',\n",
       " '40',\n",
       " '400',\n",
       " '41',\n",
       " '42',\n",
       " '43',\n",
       " '44',\n",
       " '440',\n",
       " '45',\n",
       " '46',\n",
       " '47',\n",
       " '48',\n",
       " '49',\n",
       " '4TH',\n",
       " '5',\n",
       " '50',\n",
       " '500',\n",
       " '51',\n",
       " '52',\n",
       " '53',\n",
       " '54',\n",
       " '55',\n",
       " '550',\n",
       " '56',\n",
       " '57',\n",
       " '58',\n",
       " '59',\n",
       " '5TH',\n",
       " '6',\n",
       " '60',\n",
       " '61',\n",
       " '62',\n",
       " '63',\n",
       " '64',\n",
       " '65',\n",
       " '66',\n",
       " '67',\n",
       " '68',\n",
       " '69',\n",
       " '7',\n",
       " '70',\n",
       " '71',\n",
       " '72',\n",
       " '73',\n",
       " '74',\n",
       " '75',\n",
       " '76',\n",
       " '77',\n",
       " '78',\n",
       " '79',\n",
       " '8',\n",
       " '80',\n",
       " '800',\n",
       " '81',\n",
       " '82',\n",
       " '83',\n",
       " '84',\n",
       " '85',\n",
       " '86',\n",
       " '87',\n",
       " '88',\n",
       " '89',\n",
       " '890',\n",
       " '9',\n",
       " '90',\n",
       " '91',\n",
       " '92',\n",
       " '93',\n",
       " '94',\n",
       " '95',\n",
       " '96',\n",
       " '97',\n",
       " '98',\n",
       " '99',\n",
       " ':',\n",
       " ':\"-',\n",
       " ':--',\n",
       " ':--\"',\n",
       " \":--'\",\n",
       " ';',\n",
       " ';\"',\n",
       " ';\"--',\n",
       " ';\"--(',\n",
       " \";'\",\n",
       " ';*',\n",
       " ';--',\n",
       " ';--\"',\n",
       " \";--'\",\n",
       " '?',\n",
       " '?\"',\n",
       " '?\"--',\n",
       " \"?'\",\n",
       " \"?'--'\",\n",
       " '?--',\n",
       " '?--\"',\n",
       " \"?--'\",\n",
       " 'A',\n",
       " 'ABOUT',\n",
       " 'ACCOUNT',\n",
       " 'ADDITIONAL',\n",
       " 'ADVANCING',\n",
       " 'ADVENTURES',\n",
       " 'AFFGHANISTAN',\n",
       " 'AFRICA',\n",
       " 'AFTER',\n",
       " 'AGAINST',\n",
       " 'AHAB',\n",
       " 'ALFRED',\n",
       " 'ALGERINE',\n",
       " 'ALIVE',\n",
       " 'ALL',\n",
       " 'ALONE',\n",
       " 'AM',\n",
       " 'AMERICA',\n",
       " 'AMONG',\n",
       " 'ANCHORS',\n",
       " 'AND',\n",
       " 'ANGLO',\n",
       " 'ANIMAL',\n",
       " 'ANNALS',\n",
       " 'ANNUS',\n",
       " 'ANOTHER',\n",
       " 'ANY',\n",
       " 'APOLOGY',\n",
       " 'APPLICATION',\n",
       " 'APPROACHING',\n",
       " 'ARCTIC',\n",
       " 'ARE',\n",
       " 'AROUND',\n",
       " 'AS',\n",
       " 'ASCENDING',\n",
       " 'ASIA',\n",
       " 'ASIDE',\n",
       " 'ASPECT',\n",
       " 'AT',\n",
       " 'ATTACK',\n",
       " 'ATTACKED',\n",
       " 'ATTITUDES',\n",
       " 'AUGUST',\n",
       " 'AUTHOR',\n",
       " 'AZORE',\n",
       " 'Abashed',\n",
       " 'Abednego',\n",
       " 'Abel',\n",
       " 'Abjectus',\n",
       " 'Aboard',\n",
       " 'Abominable',\n",
       " 'About',\n",
       " 'Above',\n",
       " 'Abraham',\n",
       " 'Academy',\n",
       " 'Accessory',\n",
       " 'According',\n",
       " 'Accordingly',\n",
       " 'Accursed',\n",
       " 'Achilles',\n",
       " 'Actium',\n",
       " 'Acushnet',\n",
       " 'Adam',\n",
       " 'Adieu',\n",
       " 'Adios',\n",
       " 'Admiral',\n",
       " 'Admirals',\n",
       " 'Advance',\n",
       " 'Advancement',\n",
       " 'Adventures',\n",
       " 'Adverse',\n",
       " 'Advocate',\n",
       " 'Affected',\n",
       " 'Affidavit',\n",
       " 'Affrighted',\n",
       " 'Afric',\n",
       " 'Africa',\n",
       " 'African',\n",
       " 'Africans',\n",
       " 'Aft',\n",
       " 'After',\n",
       " 'Afterwards',\n",
       " 'Again',\n",
       " 'Against',\n",
       " 'Agassiz',\n",
       " 'Ages',\n",
       " 'Ah',\n",
       " 'Ahab',\n",
       " 'Ahabs',\n",
       " 'Ahasuerus',\n",
       " 'Ahaz',\n",
       " 'Ahoy',\n",
       " 'Ain',\n",
       " 'Air',\n",
       " 'Akin',\n",
       " 'Alabama',\n",
       " 'Aladdin',\n",
       " 'Alarmed',\n",
       " 'Alas',\n",
       " 'Albatross',\n",
       " 'Albemarle',\n",
       " 'Albert',\n",
       " 'Albicore',\n",
       " 'Albino',\n",
       " 'Aldrovandi',\n",
       " 'Aldrovandus',\n",
       " 'Alexander',\n",
       " 'Alexanders',\n",
       " 'Alfred',\n",
       " 'Algerine',\n",
       " 'Algiers',\n",
       " 'Alike',\n",
       " 'Alive',\n",
       " 'All',\n",
       " 'Alleghanian',\n",
       " 'Alleghanies',\n",
       " 'Alley',\n",
       " 'Almanack',\n",
       " 'Almighty',\n",
       " 'Almost',\n",
       " 'Aloft',\n",
       " 'Alone',\n",
       " 'Alps',\n",
       " 'Already',\n",
       " 'Also',\n",
       " 'Am',\n",
       " 'Ambergriese',\n",
       " 'Ambergris',\n",
       " 'Amelia',\n",
       " 'America',\n",
       " 'American',\n",
       " 'Americans',\n",
       " 'Americas',\n",
       " 'Amittai',\n",
       " 'Among',\n",
       " 'Amsterdam',\n",
       " 'An',\n",
       " 'Anacharsis',\n",
       " 'Anak',\n",
       " 'Anatomist',\n",
       " 'And',\n",
       " 'Andes',\n",
       " 'Andrew',\n",
       " 'Andromeda',\n",
       " 'Angel',\n",
       " 'Angelo',\n",
       " 'Angels',\n",
       " 'Animated',\n",
       " 'Annawon',\n",
       " 'Anne',\n",
       " 'Anno',\n",
       " 'Anomalous',\n",
       " 'Another',\n",
       " 'Answer',\n",
       " 'Antarctic',\n",
       " 'Antilles',\n",
       " 'Antiochus',\n",
       " 'Antony',\n",
       " 'Antwerp',\n",
       " 'Anvil',\n",
       " 'Any',\n",
       " 'Anyhow',\n",
       " 'Anything',\n",
       " 'Anyway',\n",
       " 'Apollo',\n",
       " 'Apoplexy',\n",
       " 'Applied',\n",
       " 'Apply',\n",
       " 'April',\n",
       " 'Aquarius',\n",
       " 'Arch',\n",
       " 'Archbishop',\n",
       " 'Arched',\n",
       " 'Archer',\n",
       " 'Archipelagoes',\n",
       " 'Archy',\n",
       " 'Arctic',\n",
       " 'Are',\n",
       " 'Arethusa',\n",
       " 'Argo',\n",
       " 'Aries',\n",
       " 'Arion',\n",
       " 'Aristotle',\n",
       " 'Ark',\n",
       " 'Arkansas',\n",
       " 'Arkite',\n",
       " 'Arm',\n",
       " 'Armada',\n",
       " 'Arnold',\n",
       " 'Aroostook',\n",
       " 'Around',\n",
       " 'Arrayed',\n",
       " 'Arrived',\n",
       " 'Arsacidean',\n",
       " 'Arsacides',\n",
       " 'Art',\n",
       " 'Artedi',\n",
       " 'Arter',\n",
       " 'Articles',\n",
       " 'As',\n",
       " 'Asa',\n",
       " 'Ashantee',\n",
       " 'Ashore',\n",
       " 'Asia',\n",
       " 'Asiatic',\n",
       " 'Asiatics',\n",
       " 'Aside',\n",
       " 'Asphaltites',\n",
       " 'Assaulted',\n",
       " 'Assume',\n",
       " 'Assuming',\n",
       " 'Assuredly',\n",
       " 'Assyrian',\n",
       " 'Astern',\n",
       " 'Astir',\n",
       " 'Astronomy',\n",
       " 'At',\n",
       " 'Atlantic',\n",
       " 'Atlantics',\n",
       " 'Attached',\n",
       " 'Attend',\n",
       " 'August',\n",
       " 'Aunt',\n",
       " 'Australia',\n",
       " 'Australian',\n",
       " 'Austrian',\n",
       " 'Author',\n",
       " 'Authors',\n",
       " 'Auto',\n",
       " 'Availing',\n",
       " 'Avast',\n",
       " 'Avatar',\n",
       " 'Aware',\n",
       " 'Away',\n",
       " 'Awful',\n",
       " 'Ay',\n",
       " 'Aye',\n",
       " 'Azores',\n",
       " 'BACK',\n",
       " 'BACKED',\n",
       " 'BACON',\n",
       " 'BALEINE',\n",
       " 'BALLENA',\n",
       " 'BANKS',\n",
       " 'BARON',\n",
       " 'BATTLE',\n",
       " 'BE',\n",
       " 'BEALE',\n",
       " 'BEFORE',\n",
       " 'BEING',\n",
       " 'BELFAST',\n",
       " 'BELOW',\n",
       " 'BENCH',\n",
       " 'BENNETT',\n",
       " 'BERMUDAS',\n",
       " 'BETWEEN',\n",
       " 'BEWARE',\n",
       " 'BIOGRAPHY',\n",
       " 'BIT',\n",
       " 'BLACK',\n",
       " 'BLACKSMITH',\n",
       " 'BLACKSTONE',\n",
       " 'BLOOD',\n",
       " 'BLOODY',\n",
       " 'BLOWS',\n",
       " 'BOARD',\n",
       " 'BOAT',\n",
       " 'BOATS',\n",
       " 'BOOK',\n",
       " 'BOOKS',\n",
       " 'BOSOM',\n",
       " 'BOTTOM',\n",
       " 'BOUTON',\n",
       " 'BRACE',\n",
       " 'BRACTON',\n",
       " 'BREACH',\n",
       " 'BREAKERS',\n",
       " 'BREAKWATER',\n",
       " 'BRIT',\n",
       " 'BROKE',\n",
       " 'BROTHER',\n",
       " 'BROWN',\n",
       " 'BROWNE',\n",
       " 'BURKE',\n",
       " 'BURST',\n",
       " 'BUSILY',\n",
       " 'BY',\n",
       " 'Babel',\n",
       " 'Babylon',\n",
       " 'Babylonian',\n",
       " 'Bachelor',\n",
       " 'Back',\n",
       " 'Backs',\n",
       " 'Bad',\n",
       " 'Baden',\n",
       " 'Bag',\n",
       " 'Balaene',\n",
       " 'Baliene',\n",
       " 'Baling',\n",
       " 'Bally',\n",
       " 'Baltic',\n",
       " 'Baltimore',\n",
       " 'Bamboo',\n",
       " 'Bang',\n",
       " 'Banks',\n",
       " 'Barbary',\n",
       " 'Bare',\n",
       " 'Bargain',\n",
       " 'Baron',\n",
       " 'Barrens',\n",
       " 'Bartholomew',\n",
       " 'Base',\n",
       " 'Bashaw',\n",
       " 'Bashee',\n",
       " 'Basilosaurus',\n",
       " 'Bastille',\n",
       " 'Battering',\n",
       " 'Battery',\n",
       " 'Bay',\n",
       " 'Bays',\n",
       " 'Be',\n",
       " 'Beach',\n",
       " 'Beale',\n",
       " 'Beams',\n",
       " 'Bear',\n",
       " 'Bears',\n",
       " 'Beat',\n",
       " 'Because',\n",
       " 'Becket',\n",
       " 'Bedford',\n",
       " 'Beelzebub',\n",
       " 'Befooled',\n",
       " 'Before',\n",
       " 'Begone',\n",
       " 'Behold',\n",
       " 'Behring',\n",
       " 'Being',\n",
       " 'Belated',\n",
       " 'Belial',\n",
       " 'Believe',\n",
       " 'Belisarius',\n",
       " 'Bell',\n",
       " 'Bellies',\n",
       " 'Beloved',\n",
       " 'Below',\n",
       " 'Belshazzar',\n",
       " 'Belubed',\n",
       " 'Bench',\n",
       " 'Bendigoes',\n",
       " 'Beneath',\n",
       " 'Bengal',\n",
       " 'Benjamin',\n",
       " 'Bennett',\n",
       " 'Bentham',\n",
       " 'Berkshire',\n",
       " 'Berlin',\n",
       " 'Bernard',\n",
       " 'Besides',\n",
       " 'Bess',\n",
       " 'Best',\n",
       " 'Bestow',\n",
       " 'Bethink',\n",
       " 'Better',\n",
       " 'Betty',\n",
       " 'Between',\n",
       " 'Beware',\n",
       " 'Beyond',\n",
       " 'Bible',\n",
       " 'Bibles',\n",
       " 'Bibliographical',\n",
       " 'Bildad',\n",
       " 'Biographical',\n",
       " 'Birmah',\n",
       " 'Bishop',\n",
       " 'Bite',\n",
       " 'Black',\n",
       " 'Blacksmith',\n",
       " 'Blackstone',\n",
       " 'Blanc',\n",
       " 'Blanche',\n",
       " 'Blanco',\n",
       " 'Blang',\n",
       " 'Blanket',\n",
       " 'Blast',\n",
       " 'Bless',\n",
       " 'Blind',\n",
       " 'Blinding',\n",
       " 'Blocksburg',\n",
       " 'Blood',\n",
       " 'Bloody',\n",
       " 'Blue',\n",
       " 'Boat',\n",
       " 'Boats',\n",
       " 'Bobbing',\n",
       " 'Bolivia',\n",
       " 'Bombay',\n",
       " 'Bonapartes',\n",
       " 'Bone',\n",
       " 'Bones',\n",
       " 'Bonneterre',\n",
       " 'Booble',\n",
       " 'Book',\n",
       " 'Boomer',\n",
       " 'Boone',\n",
       " 'Bordeaux',\n",
       " 'Borean',\n",
       " 'Born',\n",
       " 'Borneo',\n",
       " 'Bosom',\n",
       " 'Boston',\n",
       " 'Both',\n",
       " 'Bottle',\n",
       " 'Bottom',\n",
       " 'Bourbons',\n",
       " 'Bout',\n",
       " 'Bouton',\n",
       " 'Bowditch',\n",
       " 'Bower',\n",
       " 'Boy',\n",
       " 'Boys',\n",
       " 'Brace',\n",
       " 'Brahma',\n",
       " 'Brahmins',\n",
       " 'Brandreth',\n",
       " 'Brazil',\n",
       " 'Breakfast',\n",
       " 'Bremen',\n",
       " 'Bress',\n",
       " 'Bridge',\n",
       " 'Brighggians',\n",
       " 'Bright',\n",
       " 'Bring',\n",
       " 'Brisson',\n",
       " 'Brit',\n",
       " 'Britain',\n",
       " 'British',\n",
       " 'Britons',\n",
       " 'Broad',\n",
       " 'Broadway',\n",
       " 'Broke',\n",
       " 'Brother',\n",
       " 'Browne',\n",
       " 'Brute',\n",
       " 'Buckets',\n",
       " 'Bud',\n",
       " 'Buffalo',\n",
       " 'Bulkington',\n",
       " 'Bull',\n",
       " 'Bulwarks',\n",
       " 'Bunger',\n",
       " 'Bungle',\n",
       " 'Bunyan',\n",
       " 'Buoy',\n",
       " 'Buoyed',\n",
       " 'Burke',\n",
       " 'Burkes',\n",
       " 'Burst',\n",
       " 'Burton',\n",
       " 'Burtons',\n",
       " 'Business',\n",
       " 'But',\n",
       " 'Butchers',\n",
       " 'Butler',\n",
       " 'By',\n",
       " 'Byward',\n",
       " 'C',\n",
       " 'CABIN',\n",
       " 'CABINET',\n",
       " 'CANNY',\n",
       " 'CAP',\n",
       " 'CAPTAIN',\n",
       " 'CAPTAINS',\n",
       " 'CAPTORS',\n",
       " 'CARPENTER',\n",
       " 'CATCHES',\n",
       " 'CAULKING',\n",
       " 'CEASE',\n",
       " 'CETI',\n",
       " 'CETUS',\n",
       " 'CHACE',\n",
       " 'CHAPTER',\n",
       " 'CHAPTERS',\n",
       " 'CHARLES',\n",
       " 'CHEERLY',\n",
       " 'CHEEVER',\n",
       " 'CHIEF',\n",
       " 'CHINA',\n",
       " 'CHOP',\n",
       " 'CHORUS',\n",
       " 'CHRONICLER',\n",
       " 'CIRCUMNAVIGATION',\n",
       " 'CLEAN',\n",
       " 'CLOSES',\n",
       " 'CLUSTERS',\n",
       " 'COFFIN',\n",
       " 'COILS',\n",
       " 'COLEMAN',\n",
       " 'COLL',\n",
       " 'COLNETT',\n",
       " 'COMES',\n",
       " 'COMMERCIAL',\n",
       " 'COMMODORE',\n",
       " 'COMSTOCK',\n",
       " 'CONTESTED',\n",
       " 'CONTINUES',\n",
       " 'CONVERSATIONS',\n",
       " 'COOK',\n",
       " 'COOPER',\n",
       " 'COWLEY',\n",
       " 'COWPER',\n",
       " 'CREWS',\n",
       " 'CROW',\n",
       " 'CRUISE',\n",
       " 'CRUISING',\n",
       " 'CRUIZE',\n",
       " 'CURRENTS',\n",
       " 'CUVIER',\n",
       " 'Cabaco',\n",
       " 'Cabin',\n",
       " 'Cachalot',\n",
       " 'Cadiz',\n",
       " 'Caesar',\n",
       " 'Caesarian',\n",
       " 'Cain',\n",
       " 'Calais',\n",
       " 'Californian',\n",
       " 'Call',\n",
       " 'Callao',\n",
       " 'Cambyses',\n",
       " 'Camel',\n",
       " 'Campagna',\n",
       " 'Can',\n",
       " 'Canaan',\n",
       " 'Canada',\n",
       " 'Canadian',\n",
       " 'Canal',\n",
       " 'Canaller',\n",
       " 'Canallers',\n",
       " 'Canals',\n",
       " 'Canaris',\n",
       " 'Cancer',\n",
       " 'Candles',\n",
       " 'Cannibal',\n",
       " 'Cannibals',\n",
       " 'Cannon',\n",
       " 'Canst',\n",
       " 'Cant',\n",
       " 'Canterbury',\n",
       " 'Cap',\n",
       " 'Cape',\n",
       " 'Capes',\n",
       " 'Capricornus',\n",
       " 'Captain',\n",
       " 'Captains',\n",
       " 'Capting',\n",
       " 'Caramba',\n",
       " 'Careful',\n",
       " 'Carefully',\n",
       " 'Carey',\n",
       " 'Carpenter',\n",
       " 'Carpet',\n",
       " 'Carrol',\n",
       " 'Carson',\n",
       " 'Carthage',\n",
       " 'Caryatid',\n",
       " 'Case',\n",
       " 'Cash',\n",
       " 'Cassock',\n",
       " 'Castaway',\n",
       " 'Castle',\n",
       " 'Categut',\n",
       " 'Cathedral',\n",
       " 'Catholic',\n",
       " 'Cato',\n",
       " 'Catskill',\n",
       " 'Cattegat',\n",
       " 'Caught',\n",
       " 'Cave',\n",
       " 'Caw',\n",
       " 'Cellini',\n",
       " 'Central',\n",
       " 'Certain',\n",
       " 'Certainly',\n",
       " 'Cervantes',\n",
       " 'Cetacea',\n",
       " 'Cetacean',\n",
       " 'Cetology',\n",
       " 'Cetus',\n",
       " 'Ceylon',\n",
       " 'Chace',\n",
       " 'Chaldee',\n",
       " 'Champagne',\n",
       " 'Champollion',\n",
       " 'Channel',\n",
       " 'Chapel',\n",
       " 'Charing',\n",
       " 'Charity',\n",
       " 'Charlemagne',\n",
       " 'Charley',\n",
       " 'Chart',\n",
       " 'Chartering',\n",
       " 'Chase',\n",
       " 'Cheever',\n",
       " 'Cherries',\n",
       " 'Chestnut',\n",
       " 'Chief',\n",
       " 'Childe',\n",
       " 'Chili',\n",
       " 'Chilian',\n",
       " 'China',\n",
       " 'Chinese',\n",
       " 'Cholo',\n",
       " 'Chowder',\n",
       " 'Christ',\n",
       " 'Christendom',\n",
       " 'Christian',\n",
       " 'Christianity',\n",
       " 'Christians',\n",
       " 'Christmas',\n",
       " 'Church',\n",
       " 'Cinque',\n",
       " 'Circassian',\n",
       " 'Circumambulate',\n",
       " 'Cistern',\n",
       " 'Civitas',\n",
       " 'Clam',\n",
       " 'Clap',\n",
       " 'Claus',\n",
       " 'Clay',\n",
       " 'Clear',\n",
       " 'Clearing',\n",
       " 'Cleopatra',\n",
       " 'Cleveland',\n",
       " 'Clifford',\n",
       " 'Clinging',\n",
       " 'Clootz',\n",
       " 'Close',\n",
       " 'Closing',\n",
       " 'Cloud',\n",
       " 'Cluny',\n",
       " 'Coast',\n",
       " 'Cock',\n",
       " 'Cockatoo',\n",
       " 'Cod',\n",
       " 'Cods',\n",
       " 'Coenties',\n",
       " 'Coffin',\n",
       " 'Coffins',\n",
       " 'Cognac',\n",
       " 'Coke',\n",
       " 'Cold',\n",
       " 'Coleman',\n",
       " 'Coleridge',\n",
       " 'College',\n",
       " 'Colnett',\n",
       " 'Cologne',\n",
       " 'Colonies',\n",
       " 'Colossus',\n",
       " 'Columbus',\n",
       " 'Come',\n",
       " 'Coming',\n",
       " 'Commanded',\n",
       " 'Commanders',\n",
       " 'Commend',\n",
       " 'Commodore',\n",
       " 'Commodores',\n",
       " 'Common',\n",
       " 'Commonly',\n",
       " 'Commons',\n",
       " 'Commonwealth',\n",
       " 'Companies',\n",
       " 'Comparing',\n",
       " 'Concerning',\n",
       " 'Congo',\n",
       " 'Congregation',\n",
       " 'Congregational',\n",
       " 'Conjuror',\n",
       " 'Connecticut',\n",
       " 'Consequently',\n",
       " 'Consider',\n",
       " 'Considering',\n",
       " 'Constable',\n",
       " 'Constantine',\n",
       " 'Constantinople',\n",
       " 'Consumptive',\n",
       " 'Continents',\n",
       " 'Contrasted',\n",
       " 'Conversation',\n",
       " 'Convulsively',\n",
       " 'Cook',\n",
       " 'Cooke',\n",
       " 'Cooks',\n",
       " 'Cooper',\n",
       " 'Coopman',\n",
       " 'Copenhagen',\n",
       " 'Coppered',\n",
       " 'Corinthians',\n",
       " 'Corkscrew',\n",
       " 'Corlaer',\n",
       " 'Corlears',\n",
       " 'Coronation',\n",
       " 'Corresponding',\n",
       " 'Corrupt',\n",
       " 'Cough',\n",
       " 'Could',\n",
       " 'Count',\n",
       " 'Counterpane',\n",
       " 'County',\n",
       " 'Court',\n",
       " 'Cousin',\n",
       " 'Cowper',\n",
       " 'Crab',\n",
       " 'Crack',\n",
       " 'Crammer',\n",
       " 'Crappo',\n",
       " 'Crappoes',\n",
       " 'Crazed',\n",
       " 'Creagh',\n",
       " 'Created',\n",
       " 'Cretan',\n",
       " 'Crete',\n",
       " ...]"
      ]
     },
     "execution_count": 7,
     "metadata": {},
     "output_type": "execute_result"
    }
   ],
   "source": [
    "# Vocabularios: lista de palabras únicas en un corpus. Pertenece a la categoría de recursos léxicos no enriquecidos\n",
    "vocab = sorted(set(text1))\n",
    "vocab"
   ]
  },
  {
   "cell_type": "code",
   "execution_count": 8,
   "metadata": {
    "colab": {},
    "colab_type": "code",
    "id": "1B_dvdADkV2b"
   },
   "outputs": [],
   "source": [
    "# Distribuciones: frecuencia de aparición. Otro recurso léxico o lexicon pero este es enriquecido ya que contiene palabra: información (metadato)\n",
    "word_freq = FreqDist(text1)"
   ]
  },
  {
   "cell_type": "code",
   "execution_count": 9,
   "metadata": {
    "colab": {
     "base_uri": "https://localhost:8080/",
     "height": 54
    },
    "colab_type": "code",
    "executionInfo": {
     "elapsed": 23901,
     "status": "ok",
     "timestamp": 1582724841381,
     "user": {
      "displayName": "Francisco Camacho",
      "photoUrl": "https://lh3.googleusercontent.com/a-/AAuE7mCUaNNj72-A-ZLpzeOCw1kooH47L4wGZaSy6fUG=s64",
      "userId": "03320326049189164988"
     },
     "user_tz": 300
    },
    "id": "I87FcXGDkitn",
    "outputId": "f4808d89-089e-4354-f087-293eee41fac2"
   },
   "outputs": [
    {
     "name": "stdout",
     "output_type": "stream",
     "text": [
      "['de', 'la', 'que', 'el', 'en', 'y', 'a', 'los', 'del', 'se', 'las', 'por', 'un', 'para', 'con', 'no', 'una', 'su', 'al', 'lo', 'como', 'más', 'pero', 'sus', 'le', 'ya', 'o', 'este', 'sí', 'porque', 'esta', 'entre', 'cuando', 'muy', 'sin', 'sobre', 'también', 'me', 'hasta', 'hay', 'donde', 'quien', 'desde', 'todo', 'nos', 'durante', 'todos', 'uno', 'les', 'ni', 'contra', 'otros', 'ese', 'eso', 'ante', 'ellos', 'e', 'esto', 'mí', 'antes', 'algunos', 'qué', 'unos', 'yo', 'otro', 'otras', 'otra', 'él', 'tanto', 'esa', 'estos', 'mucho', 'quienes', 'nada', 'muchos', 'cual', 'poco', 'ella', 'estar', 'estas', 'algunas', 'algo', 'nosotros', 'mi', 'mis', 'tú', 'te', 'ti', 'tu', 'tus', 'ellas', 'nosotras', 'vosotros', 'vosotras', 'os', 'mío', 'mía', 'míos', 'mías', 'tuyo', 'tuya', 'tuyos', 'tuyas', 'suyo', 'suya', 'suyos', 'suyas', 'nuestro', 'nuestra', 'nuestros', 'nuestras', 'vuestro', 'vuestra', 'vuestros', 'vuestras', 'esos', 'esas', 'estoy', 'estás', 'está', 'estamos', 'estáis', 'están', 'esté', 'estés', 'estemos', 'estéis', 'estén', 'estaré', 'estarás', 'estará', 'estaremos', 'estaréis', 'estarán', 'estaría', 'estarías', 'estaríamos', 'estaríais', 'estarían', 'estaba', 'estabas', 'estábamos', 'estabais', 'estaban', 'estuve', 'estuviste', 'estuvo', 'estuvimos', 'estuvisteis', 'estuvieron', 'estuviera', 'estuvieras', 'estuviéramos', 'estuvierais', 'estuvieran', 'estuviese', 'estuvieses', 'estuviésemos', 'estuvieseis', 'estuviesen', 'estando', 'estado', 'estada', 'estados', 'estadas', 'estad', 'he', 'has', 'ha', 'hemos', 'habéis', 'han', 'haya', 'hayas', 'hayamos', 'hayáis', 'hayan', 'habré', 'habrás', 'habrá', 'habremos', 'habréis', 'habrán', 'habría', 'habrías', 'habríamos', 'habríais', 'habrían', 'había', 'habías', 'habíamos', 'habíais', 'habían', 'hube', 'hubiste', 'hubo', 'hubimos', 'hubisteis', 'hubieron', 'hubiera', 'hubieras', 'hubiéramos', 'hubierais', 'hubieran', 'hubiese', 'hubieses', 'hubiésemos', 'hubieseis', 'hubiesen', 'habiendo', 'habido', 'habida', 'habidos', 'habidas', 'soy', 'eres', 'es', 'somos', 'sois', 'son', 'sea', 'seas', 'seamos', 'seáis', 'sean', 'seré', 'serás', 'será', 'seremos', 'seréis', 'serán', 'sería', 'serías', 'seríamos', 'seríais', 'serían', 'era', 'eras', 'éramos', 'erais', 'eran', 'fui', 'fuiste', 'fue', 'fuimos', 'fuisteis', 'fueron', 'fuera', 'fueras', 'fuéramos', 'fuerais', 'fueran', 'fuese', 'fueses', 'fuésemos', 'fueseis', 'fuesen', 'sintiendo', 'sentido', 'sentida', 'sentidos', 'sentidas', 'siente', 'sentid', 'tengo', 'tienes', 'tiene', 'tenemos', 'tenéis', 'tienen', 'tenga', 'tengas', 'tengamos', 'tengáis', 'tengan', 'tendré', 'tendrás', 'tendrá', 'tendremos', 'tendréis', 'tendrán', 'tendría', 'tendrías', 'tendríamos', 'tendríais', 'tendrían', 'tenía', 'tenías', 'teníamos', 'teníais', 'tenían', 'tuve', 'tuviste', 'tuvo', 'tuvimos', 'tuvisteis', 'tuvieron', 'tuviera', 'tuvieras', 'tuviéramos', 'tuvierais', 'tuvieran', 'tuviese', 'tuvieses', 'tuviésemos', 'tuvieseis', 'tuviesen', 'teniendo', 'tenido', 'tenida', 'tenidos', 'tenidas', 'tened']\n"
     ]
    }
   ],
   "source": [
    "# Stopwords: Palabras muy usadas en el lenguaje que usualmente son filtradas en un pipeline de NLP (useless words)\n",
    "print(stopwords.words('spanish'))"
   ]
  },
  {
   "cell_type": "markdown",
   "metadata": {
    "colab_type": "text",
    "id": "taLQ6HevxKnY"
   },
   "source": [
    "## Fraccion de Stopwords en un corpus"
   ]
  },
  {
   "cell_type": "code",
   "execution_count": 10,
   "metadata": {
    "colab": {
     "base_uri": "https://localhost:8080/",
     "height": 34
    },
    "colab_type": "code",
    "executionInfo": {
     "elapsed": 24419,
     "status": "ok",
     "timestamp": 1582724842001,
     "user": {
      "displayName": "Francisco Camacho",
      "photoUrl": "https://lh3.googleusercontent.com/a-/AAuE7mCUaNNj72-A-ZLpzeOCw1kooH47L4wGZaSy6fUG=s64",
      "userId": "03320326049189164988"
     },
     "user_tz": 300
    },
    "id": "vL1nrH1VwbTz",
    "outputId": "089c4bb5-f96f-485a-b644-c2388c546d86"
   },
   "outputs": [
    {
     "data": {
      "text/plain": [
       "0.5862954769399469"
      ]
     },
     "execution_count": 10,
     "metadata": {},
     "output_type": "execute_result"
    }
   ],
   "source": [
    "def stopwords_percentage(text):\n",
    "  '''\n",
    "  aqui usamos un recurso léxico (stopwords) para filtrar un corpus\n",
    "  '''\n",
    "  stopwd = stopwords.words('english')\n",
    "  content = [w  for w in text if w.lower() not in stopwd]\n",
    "  return len(content)/len(text)\n",
    "\n",
    "stopwords_percentage(text1)"
   ]
  },
  {
   "cell_type": "markdown",
   "metadata": {},
   "source": [
    "Esto nos indica que en relaidad el tamaño del corpus que verdaderamente debemos procesar es del 40% ya que el resto son stopwords en el texto de Moby Dick"
   ]
  },
  {
   "cell_type": "markdown",
   "metadata": {
    "colab_type": "text",
    "id": "a2hxgqJbyXdH"
   },
   "source": [
    "## Lexicons enriquecidos (listas comparativas de palabras)\n",
    "\n",
    "*   Construyendo diccionarios para traduccion de palabras en diferentes idiomas. \n"
   ]
  },
  {
   "cell_type": "code",
   "execution_count": 12,
   "metadata": {
    "colab": {
     "base_uri": "https://localhost:8080/",
     "height": 34
    },
    "colab_type": "code",
    "executionInfo": {
     "elapsed": 24337,
     "status": "ok",
     "timestamp": 1582724842017,
     "user": {
      "displayName": "Francisco Camacho",
      "photoUrl": "https://lh3.googleusercontent.com/a-/AAuE7mCUaNNj72-A-ZLpzeOCw1kooH47L4wGZaSy6fUG=s64",
      "userId": "03320326049189164988"
     },
     "user_tz": 300
    },
    "id": "YeG2PcZeyaA4",
    "outputId": "a7854d26-67c3-440b-bc4a-4c903bead76d"
   },
   "outputs": [
    {
     "name": "stdout",
     "output_type": "stream",
     "text": [
      "['be', 'bg', 'bs', 'ca', 'cs', 'cu', 'de', 'en', 'es', 'fr', 'hr', 'it', 'la', 'mk', 'nl', 'pl', 'pt', 'ro', 'ru', 'sk', 'sl', 'sr', 'sw', 'uk']\n"
     ]
    }
   ],
   "source": [
    "from nltk.corpus import swadesh\n",
    "#idiomas disponibles\n",
    "print(swadesh.fileids())  # Otro recurso léxico"
   ]
  },
  {
   "cell_type": "code",
   "execution_count": 13,
   "metadata": {
    "colab": {
     "base_uri": "https://localhost:8080/",
     "height": 54
    },
    "colab_type": "code",
    "executionInfo": {
     "elapsed": 24239,
     "status": "ok",
     "timestamp": 1582724842019,
     "user": {
      "displayName": "Francisco Camacho",
      "photoUrl": "https://lh3.googleusercontent.com/a-/AAuE7mCUaNNj72-A-ZLpzeOCw1kooH47L4wGZaSy6fUG=s64",
      "userId": "03320326049189164988"
     },
     "user_tz": 300
    },
    "id": "TBXSl7NMz4UM",
    "outputId": "b0205583-9c01-4fe7-cf8e-995b8268e784"
   },
   "outputs": [
    {
     "name": "stdout",
     "output_type": "stream",
     "text": [
      "['I', 'you (singular), thou', 'he', 'we', 'you (plural)', 'they', 'this', 'that', 'here', 'there', 'who', 'what', 'where', 'when', 'how', 'not', 'all', 'many', 'some', 'few', 'other', 'one', 'two', 'three', 'four', 'five', 'big', 'long', 'wide', 'thick', 'heavy', 'small', 'short', 'narrow', 'thin', 'woman', 'man (adult male)', 'man (human being)', 'child', 'wife', 'husband', 'mother', 'father', 'animal', 'fish', 'bird', 'dog', 'louse', 'snake', 'worm', 'tree', 'forest', 'stick', 'fruit', 'seed', 'leaf', 'root', 'bark (from tree)', 'flower', 'grass', 'rope', 'skin', 'meat', 'blood', 'bone', 'fat (noun)', 'egg', 'horn', 'tail', 'feather', 'hair', 'head', 'ear', 'eye', 'nose', 'mouth', 'tooth', 'tongue', 'fingernail', 'foot', 'leg', 'knee', 'hand', 'wing', 'belly', 'guts', 'neck', 'back', 'breast', 'heart', 'liver', 'drink', 'eat', 'bite', 'suck', 'spit', 'vomit', 'blow', 'breathe', 'laugh', 'see', 'hear', 'know (a fact)', 'think', 'smell', 'fear', 'sleep', 'live', 'die', 'kill', 'fight', 'hunt', 'hit', 'cut', 'split', 'stab', 'scratch', 'dig', 'swim', 'fly (verb)', 'walk', 'come', 'lie', 'sit', 'stand', 'turn', 'fall', 'give', 'hold', 'squeeze', 'rub', 'wash', 'wipe', 'pull', 'push', 'throw', 'tie', 'sew', 'count', 'say', 'sing', 'play', 'float', 'flow', 'freeze', 'swell', 'sun', 'moon', 'star', 'water', 'rain', 'river', 'lake', 'sea', 'salt', 'stone', 'sand', 'dust', 'earth', 'cloud', 'fog', 'sky', 'wind', 'snow', 'ice', 'smoke', 'fire', 'ashes', 'burn', 'road', 'mountain', 'red', 'green', 'yellow', 'white', 'black', 'night', 'day', 'year', 'warm', 'cold', 'full', 'new', 'old', 'good', 'bad', 'rotten', 'dirty', 'straight', 'round', 'sharp', 'dull', 'smooth', 'wet', 'dry', 'correct', 'near', 'far', 'right', 'left', 'at', 'in', 'with', 'and', 'if', 'because', 'name']\n"
     ]
    }
   ],
   "source": [
    "print(swadesh.words('en'))"
   ]
  },
  {
   "cell_type": "code",
   "execution_count": 14,
   "metadata": {
    "colab": {
     "base_uri": "https://localhost:8080/",
     "height": 54
    },
    "colab_type": "code",
    "executionInfo": {
     "elapsed": 24178,
     "status": "ok",
     "timestamp": 1582724842033,
     "user": {
      "displayName": "Francisco Camacho",
      "photoUrl": "https://lh3.googleusercontent.com/a-/AAuE7mCUaNNj72-A-ZLpzeOCw1kooH47L4wGZaSy6fUG=s64",
      "userId": "03320326049189164988"
     },
     "user_tz": 300
    },
    "id": "MKoGBGVtz94p",
    "outputId": "c606479b-0be2-4ee6-cb02-c984f7f6ad2c"
   },
   "outputs": [
    {
     "name": "stdout",
     "output_type": "stream",
     "text": [
      "[('je', 'yo'), ('tu, vous', 'tú, usted'), ('il', 'él'), ('nous', 'nosotros'), ('vous', 'vosotros, ustedes'), ('ils, elles', 'ellos, ellas'), ('ceci', 'este'), ('cela', 'ese, aquel'), ('ici', 'aquí, acá'), ('là', 'ahí, allí, allá'), ('qui', 'quien'), ('quoi', 'que'), ('où', 'donde'), ('quand', 'cuando'), ('comment', 'como'), ('ne...pas', 'no'), ('tout', 'todo'), ('plusieurs', 'muchos'), ('quelques', 'algunos, unos'), ('peu', 'poco'), ('autre', 'otro'), ('un', 'uno'), ('deux', 'dos'), ('trois', 'tres'), ('quatre', 'cuatro'), ('cinq', 'cinco'), ('grand', 'grande'), ('long', 'largo'), ('large', 'ancho'), ('épais', 'gordo'), ('lourd', 'pesado'), ('petit', 'pequeño'), ('court', 'corto'), ('étroit', 'estrecho, angosto'), ('mince', 'delgado, flaco'), ('femme', 'mujer'), ('homme', 'hombre'), ('homme', 'hombre'), ('enfant', 'niño'), ('femme, épouse', 'esposa, mujer'), ('mari, époux', 'esposo, marido'), ('mère', 'madre'), ('père', 'padre'), ('animal', 'animal'), ('poisson', 'pez, pescado'), ('oiseau', 'ave, pájaro'), ('chien', 'perro'), ('pou', 'piojo'), ('serpent', 'serpiente, culebra'), ('ver', 'gusano'), ('arbre', 'árbol'), ('forêt', 'bosque'), ('bâton', 'palo'), ('fruit', 'fruta'), ('graine', 'semilla'), ('feuille', 'hoja'), ('racine', 'raíz'), ('écorce', 'corteza'), ('fleur', 'flor'), ('herbe', 'hierba, pasto'), ('corde', 'cuerda'), ('peau', 'piel'), ('viande', 'carne'), ('sang', 'sangre'), ('os', 'hueso'), ('graisse', 'grasa'), ('œuf', 'huevo'), ('corne', 'cuerno'), ('queue', 'cola'), ('plume', 'pluma'), ('cheveu', 'cabello, pelo'), ('tête', 'cabeza'), ('oreille', 'oreja'), ('œil', 'ojo'), ('nez', 'nariz'), ('bouche', 'boca'), ('dent', 'diente'), ('langue', 'lengua'), ('ongle', 'uña'), ('pied', 'pie'), ('jambe', 'pierna'), ('genou', 'rodilla'), ('main', 'mano'), ('aile', 'ala'), ('ventre', 'barriga, vientre, panza'), ('entrailles', 'entrañas, tripas'), ('cou', 'cuello'), ('dos', 'espalda'), ('sein, poitrine', 'pecho, seno'), ('cœur', 'corazón'), ('foie', 'hígado'), ('boire', 'beber, tomar'), ('manger', 'comer'), ('mordre', 'morder'), ('sucer', 'chupar'), ('cracher', 'escupir'), ('vomir', 'vomitar'), ('souffler', 'soplar'), ('respirer', 'respirar'), ('rire', 'reír'), ('voir', 'ver'), ('entendre', 'oír'), ('savoir', 'saber'), ('penser', 'pensar'), ('sentir', 'oler'), ('craindre, avoir peur', 'temer'), ('dormir', 'dormir'), ('vivre', 'vivir'), ('mourir', 'morir'), ('tuer', 'matar'), ('se battre', 'pelear'), ('chasser', 'cazar'), ('frapper', 'golpear'), ('couper', 'cortar'), ('fendre', 'partir'), ('poignarder', 'apuñalar'), ('gratter', 'arañar, rascar'), ('creuser', 'cavar'), ('nager', 'nadar'), ('voler', 'volar'), ('marcher', 'caminar'), ('venir', 'venir'), (\"s'étendre\", 'echarse, acostarse, tenderse'), (\"s'asseoir\", 'sentarse'), ('se lever', 'estar de pie'), ('tourner', 'voltear'), ('tomber', 'caer'), ('donner', 'dar'), ('tenir', 'sostener'), ('serrer', 'apretar'), ('frotter', 'frotar'), ('laver', 'lavar'), ('essuyer', 'limpiar'), ('tirer', 'tirar'), ('pousser', 'empujar'), ('jeter', 'tirar'), ('lier', 'atar'), ('coudre', 'coser'), ('compter', 'contar'), ('dire', 'decir'), ('chanter', 'cantar'), ('jouer', 'jugar'), ('flotter', 'flotar'), ('couler', 'fluir'), ('geler', 'helar'), ('gonfler', 'hincharse'), ('soleil', 'sol'), ('lune', 'luna'), ('étoile', 'estrella'), ('eau', 'agua'), ('pluie', 'lluvia'), ('rivière', 'río'), ('lac', 'lago'), ('mer', 'mar'), ('sel', 'sal'), ('pierre', 'piedra'), ('sable', 'arena'), ('poussière', 'polvo'), ('terre', 'tierra'), ('nuage', 'nube'), ('brouillard', 'niebla'), ('ciel', 'cielo'), ('vent', 'viento'), ('neige', 'nieve'), ('glace', 'hielo'), ('fumée', 'humo'), ('feu', 'fuego'), ('cendres', 'cenizas'), ('brûler', 'quemar'), ('route', 'camino'), ('montagne', 'montaña'), ('rouge', 'rojo'), ('vert', 'verde'), ('jaune', 'amarillo'), ('blanc', 'blanco'), ('noir', 'negro'), ('nuit', 'noche'), ('jour', 'día'), ('an, année', 'año'), ('chaud', 'cálido, tibio'), ('froid', 'frío'), ('plein', 'lleno'), ('nouveau', 'nuevo'), ('vieux', 'viejo'), ('bon', 'bueno'), ('mauvais', 'malo'), ('pourri', 'podrido'), ('sale', 'sucio'), ('droit', 'recto'), ('rond', 'redondo'), ('tranchant, pointu, aigu', 'afilado'), ('émoussé', 'desafilado'), ('lisse', 'suave, liso'), ('mouillé', 'mojado'), ('sec', 'seco'), ('juste, correct', 'correcto'), ('proche', 'cerca'), ('loin', 'lejos'), ('à droite', 'derecha'), ('à gauche', 'izquierda'), ('à', 'a, en, ante'), ('dans', 'en'), ('avec', 'con'), ('et', 'y'), ('si', 'si'), ('parce que', 'porque'), ('nom', 'nombre')]\n"
     ]
    }
   ],
   "source": [
    "fr2es = swadesh.entries(['fr', 'es'])\n",
    "print(fr2es)"
   ]
  },
  {
   "cell_type": "code",
   "execution_count": 16,
   "metadata": {
    "colab": {
     "base_uri": "https://localhost:8080/",
     "height": 34
    },
    "colab_type": "code",
    "executionInfo": {
     "elapsed": 24093,
     "status": "ok",
     "timestamp": 1582724842040,
     "user": {
      "displayName": "Francisco Camacho",
      "photoUrl": "https://lh3.googleusercontent.com/a-/AAuE7mCUaNNj72-A-ZLpzeOCw1kooH47L4wGZaSy6fUG=s64",
      "userId": "03320326049189164988"
     },
     "user_tz": 300
    },
    "id": "zFrKBsN80TBs",
    "outputId": "3b8cc5bd-db44-4c29-f8ac-9a0b2020b136"
   },
   "outputs": [
    {
     "data": {
      "text/plain": [
       "'perro'"
      ]
     },
     "execution_count": 16,
     "metadata": {},
     "output_type": "execute_result"
    }
   ],
   "source": [
    "translate = dict(fr2es)\n",
    "#translate\n",
    "translate['chien']"
   ]
  },
  {
   "cell_type": "code",
   "execution_count": 17,
   "metadata": {
    "colab": {
     "base_uri": "https://localhost:8080/",
     "height": 34
    },
    "colab_type": "code",
    "executionInfo": {
     "elapsed": 23956,
     "status": "ok",
     "timestamp": 1582724842051,
     "user": {
      "displayName": "Francisco Camacho",
      "photoUrl": "https://lh3.googleusercontent.com/a-/AAuE7mCUaNNj72-A-ZLpzeOCw1kooH47L4wGZaSy6fUG=s64",
      "userId": "03320326049189164988"
     },
     "user_tz": 300
    },
    "id": "7ZZoGqpJ1JYx",
    "outputId": "accbc583-b051-4d5b-ae66-79755161031d"
   },
   "outputs": [
    {
     "data": {
      "text/plain": [
       "'tirar'"
      ]
     },
     "execution_count": 17,
     "metadata": {},
     "output_type": "execute_result"
    }
   ],
   "source": [
    "translate['jeter']"
   ]
  },
  {
   "cell_type": "markdown",
   "metadata": {
    "colab_type": "text",
    "id": "blP4PK213IgP"
   },
   "source": [
    "# WordNet"
   ]
  },
  {
   "cell_type": "markdown",
   "metadata": {},
   "source": [
    "Un synset es un conjunto de palabras que son sinónimos o que se pueden generalizar con un concepto. Por ejemplo, coche, auto, carro hacen referencia a un mismo concepto.\n",
    "\n",
    "La idea del Wordnet es tener una estructura tipo grafo.\n",
    "\n",
    "Un synset se relaciona con otro synset dependiendo de la generalidad del concepto.\n",
    "Conceptos claves:\n",
    "- **Hiperónimo**: Es un synset mas generalizado que puede abarcar varias palabras. El ejemplo de la clase es que \"Artefacto\" es un hiperónimo de \"vehículo motorizado\".\n",
    "- **Hipónimo**: Es un synset que no es general sino más específico. Por ejemplo, un automóvil es un hiponimo de dehículo automotizado\n",
    "\n",
    "Los sysnset también son **recursos léxicos**\n"
   ]
  },
  {
   "cell_type": "markdown",
   "metadata": {
    "colab_type": "text",
    "id": "HaIV6smBUo1a"
   },
   "source": [
    "## Referencias \n",
    "\n",
    "* [WordNet Lecture](https://sp1718.github.io/wordnet_lecture.pdf)\n",
    "* [What is WordNet?](https://wordnet.princeton.edu)\n",
    "* [WordNet Interface NLTK](http://www.nltk.org/howto/wordnet.html)\n",
    "* [LAS-WordNet](https://www.datos.gov.co/Ciencia-Tecnolog-a-e-Innovaci-n/LAS-WordNet-una-WordNet-para-el-espa-ol-obtenida-c/8z8d-85m7)\n",
    "\n"
   ]
  },
  {
   "cell_type": "code",
   "execution_count": 24,
   "metadata": {
    "colab": {
     "base_uri": "https://localhost:8080/",
     "height": 51
    },
    "colab_type": "code",
    "executionInfo": {
     "elapsed": 24464,
     "status": "ok",
     "timestamp": 1582724842635,
     "user": {
      "displayName": "Francisco Camacho",
      "photoUrl": "https://lh3.googleusercontent.com/a-/AAuE7mCUaNNj72-A-ZLpzeOCw1kooH47L4wGZaSy6fUG=s64",
      "userId": "03320326049189164988"
     },
     "user_tz": 300
    },
    "id": "6E1VfuY11Lce",
    "outputId": "6e3b5c38-d051-40f9-9830-9118a36e51fa"
   },
   "outputs": [
    {
     "name": "stderr",
     "output_type": "stream",
     "text": [
      "[nltk_data] Downloading package omw to\n",
      "[nltk_data]     C:\\Users\\sumit\\AppData\\Roaming\\nltk_data...\n",
      "[nltk_data]   Unzipping corpora\\omw.zip.\n"
     ]
    }
   ],
   "source": [
    "#nltk.download('omw')\n",
    "from nltk.corpus import wordnet as wn"
   ]
  },
  {
   "cell_type": "code",
   "execution_count": 76,
   "metadata": {
    "colab": {
     "base_uri": "https://localhost:8080/",
     "height": 119
    },
    "colab_type": "code",
    "executionInfo": {
     "elapsed": 26388,
     "status": "ok",
     "timestamp": 1582724844650,
     "user": {
      "displayName": "Francisco Camacho",
      "photoUrl": "https://lh3.googleusercontent.com/a-/AAuE7mCUaNNj72-A-ZLpzeOCw1kooH47L4wGZaSy6fUG=s64",
      "userId": "03320326049189164988"
     },
     "user_tz": 300
    },
    "id": "tAKiyUOY3NVz",
    "outputId": "d470b120-25cb-42b8-df1e-9fd80c7cd48d"
   },
   "outputs": [
    {
     "data": {
      "text/plain": [
       "[Synset('car.n.01'),\n",
       " Synset('carriage.n.04'),\n",
       " Synset('carrier.n.02'),\n",
       " Synset('cart.n.01'),\n",
       " Synset('chariot.n.02'),\n",
       " Synset('cartload.n.01')]"
      ]
     },
     "execution_count": 76,
     "metadata": {},
     "output_type": "execute_result"
    }
   ],
   "source": [
    "# synset: grupo de sinómimos de una palabra.\n",
    "ss = wn.synsets('carro', lang='spa')\n",
    "ss"
   ]
  },
  {
   "cell_type": "code",
   "execution_count": 77,
   "metadata": {
    "colab": {
     "base_uri": "https://localhost:8080/",
     "height": 289
    },
    "colab_type": "code",
    "executionInfo": {
     "elapsed": 26300,
     "status": "ok",
     "timestamp": 1582724844653,
     "user": {
      "displayName": "Francisco Camacho",
      "photoUrl": "https://lh3.googleusercontent.com/a-/AAuE7mCUaNNj72-A-ZLpzeOCw1kooH47L4wGZaSy6fUG=s64",
      "userId": "03320326049189164988"
     },
     "user_tz": 300
    },
    "id": "Vl0HpwlX4hge",
    "outputId": "f5d30d82-fc02-41ed-f805-625eeed08015"
   },
   "outputs": [
    {
     "name": "stdout",
     "output_type": "stream",
     "text": [
      "car.n.01 :  a motor vehicle with four wheels; usually propelled by an internal combustion engine\n",
      " *  car\n",
      " *  auto\n",
      " *  automobile\n",
      " *  machine\n",
      " *  motorcar\n",
      "carriage.n.04 :  a machine part that carries something else\n",
      " *  carriage\n",
      "carrier.n.02 :  a self-propelled wheeled vehicle designed specifically to carry something\n",
      " *  carrier\n",
      "cart.n.01 :  a heavy open wagon usually having two wheels and drawn by an animal\n",
      " *  cart\n",
      "chariot.n.02 :  a two-wheeled horse-drawn battle vehicle; used in war and races in ancient Egypt and Greece and Rome\n",
      " *  chariot\n",
      "cartload.n.01 :  the quantity that a cart holds\n",
      " *  cartload\n"
     ]
    }
   ],
   "source": [
    "# explorando los synsets\n",
    "for syn in ss:\n",
    "  print(syn.name(), ': ', syn.definition())\n",
    "  for name in syn.lemma_names():\n",
    "    print(' * ', name)"
   ]
  },
  {
   "cell_type": "code",
   "execution_count": 78,
   "metadata": {
    "colab": {},
    "colab_type": "code",
    "id": "5SB2daMz_QI9"
   },
   "outputs": [],
   "source": [
    "# visualization references\n",
    "# * http://www.randomhacks.net/2009/12/29/visualizing-wordnet-relationships-as-graphs/\n",
    "# * http://dlacombejr.github.io/programming/2015/09/28/visualizing-cifar-10-categories-with-wordnet-and-networkx.html\n",
    "\n",
    "import networkx as nx\n",
    "import matplotlib.pyplot as plt\n",
    "\n",
    "def closure_graph(synset, fn):\n",
    "    print(synset)\n",
    "    seen = set()\n",
    "    graph = nx.DiGraph()\n",
    "    labels = {}\n",
    "\n",
    "    def recurse(s):\n",
    "        if not s in seen:\n",
    "            seen.add(s)\n",
    "            labels[s.name] = s.name().split('.')[0]\n",
    "            graph.add_node(s.name)\n",
    "            for s1 in fn(s):\n",
    "                graph.add_node(s1.name)\n",
    "                graph.add_edge(s.name, s1.name)\n",
    "                recurse(s1)\n",
    "\n",
    "    recurse(synset)\n",
    "    return graph, labels\n",
    "\n",
    "def draw_text_graph(G, labels):\n",
    "    plt.figure(figsize=(18,12))\n",
    "    pos = nx.planar_layout(G, scale=18)\n",
    "    nx.draw_networkx_nodes(G, pos, node_color=\"red\", linewidths=0, node_size=500)\n",
    "    nx.draw_networkx_labels(G, pos, font_size=10, labels=labels)\n",
    "    nx.draw_networkx_edges(G, pos)\n",
    "    plt.xticks([])\n",
    "    plt.yticks([])"
   ]
  },
  {
   "cell_type": "markdown",
   "metadata": {
    "colab_type": "text",
    "id": "x4cNMOXyMAXQ"
   },
   "source": [
    "## **Hyponyms:** Conceptos que son más especificos que la palabra raiz de la cual derivan."
   ]
  },
  {
   "cell_type": "markdown",
   "metadata": {},
   "source": [
    "Vamos a obtener los hiónimos del synset de carro o automóvil:"
   ]
  },
  {
   "cell_type": "code",
   "execution_count": 79,
   "metadata": {},
   "outputs": [
    {
     "data": {
      "text/plain": [
       "[Synset('ambulance.n.01'),\n",
       " Synset('beach_wagon.n.01'),\n",
       " Synset('bus.n.04'),\n",
       " Synset('cab.n.03'),\n",
       " Synset('compact.n.03'),\n",
       " Synset('convertible.n.01'),\n",
       " Synset('coupe.n.01'),\n",
       " Synset('cruiser.n.01'),\n",
       " Synset('electric.n.01'),\n",
       " Synset('gas_guzzler.n.01'),\n",
       " Synset('hardtop.n.01'),\n",
       " Synset('hatchback.n.01'),\n",
       " Synset('horseless_carriage.n.01'),\n",
       " Synset('hot_rod.n.01'),\n",
       " Synset('jeep.n.01'),\n",
       " Synset('limousine.n.01'),\n",
       " Synset('loaner.n.02'),\n",
       " Synset('minicar.n.01'),\n",
       " Synset('minivan.n.01'),\n",
       " Synset('model_t.n.01'),\n",
       " Synset('pace_car.n.01'),\n",
       " Synset('racer.n.02'),\n",
       " Synset('roadster.n.01'),\n",
       " Synset('sedan.n.01'),\n",
       " Synset('sport_utility.n.01'),\n",
       " Synset('sports_car.n.01'),\n",
       " Synset('stanley_steamer.n.01'),\n",
       " Synset('stock_car.n.01'),\n",
       " Synset('subcompact.n.01'),\n",
       " Synset('touring_car.n.01'),\n",
       " Synset('used-car.n.01')]"
      ]
     },
     "execution_count": 79,
     "metadata": {},
     "output_type": "execute_result"
    }
   ],
   "source": [
    "ss[0].hyponyms()"
   ]
  },
  {
   "cell_type": "code",
   "execution_count": 80,
   "metadata": {
    "colab": {
     "base_uri": "https://localhost:8080/",
     "height": 754
    },
    "colab_type": "code",
    "executionInfo": {
     "elapsed": 28179,
     "status": "ok",
     "timestamp": 1582724846688,
     "user": {
      "displayName": "Francisco Camacho",
      "photoUrl": "https://lh3.googleusercontent.com/a-/AAuE7mCUaNNj72-A-ZLpzeOCw1kooH47L4wGZaSy6fUG=s64",
      "userId": "03320326049189164988"
     },
     "user_tz": 300
    },
    "id": "cgpNclQqHTzY",
    "outputId": "a986ccb4-24da-4b96-de16-b787e103d47f"
   },
   "outputs": [
    {
     "name": "stdout",
     "output_type": "stream",
     "text": [
      "car.n.01\n",
      "Synset('car.n.01')\n"
     ]
    },
    {
     "data": {
      "image/png": "[encoded data removed]",
      "text/plain": [
       "<Figure size 1296x864 with 1 Axes>"
      ]
     },
     "metadata": {},
     "output_type": "display_data"
    }
   ],
   "source": [
    "print(ss[0].name())\n",
    "G, labels = closure_graph(ss[0], fn = lambda s: s.hyponyms())\n",
    "synset = wn.synset('motor_vehicle.n.01')\n",
    "dog = wn.synset('dog.n.01')\n",
    "#G, labels = closure_graph(dog, fn = lambda s: s.hyponyms())\n",
    "draw_text_graph(G, labels)"
   ]
  },
  {
   "cell_type": "markdown",
   "metadata": {
    "colab_type": "text",
    "id": "XDVJV5UoMMKs"
   },
   "source": [
    "## **Hypernyms**: conceptos que son mas generales !"
   ]
  },
  {
   "cell_type": "markdown",
   "metadata": {},
   "source": [
    "Obtenemos los hipernóminos del synset de automovil:"
   ]
  },
  {
   "cell_type": "code",
   "execution_count": 81,
   "metadata": {},
   "outputs": [
    {
     "data": {
      "text/plain": [
       "[Synset('motor_vehicle.n.01')]"
      ]
     },
     "execution_count": 81,
     "metadata": {},
     "output_type": "execute_result"
    }
   ],
   "source": [
    "ss[0].hypernyms()"
   ]
  },
  {
   "cell_type": "code",
   "execution_count": 82,
   "metadata": {
    "colab": {
     "base_uri": "https://localhost:8080/",
     "height": 754
    },
    "colab_type": "code",
    "executionInfo": {
     "elapsed": 28127,
     "status": "ok",
     "timestamp": 1582724846691,
     "user": {
      "displayName": "Francisco Camacho",
      "photoUrl": "https://lh3.googleusercontent.com/a-/AAuE7mCUaNNj72-A-ZLpzeOCw1kooH47L4wGZaSy6fUG=s64",
      "userId": "03320326049189164988"
     },
     "user_tz": 300
    },
    "id": "XrywI6b-Hi3Y",
    "outputId": "d3b0eacc-e6b4-4df6-e008-94a7779d7926"
   },
   "outputs": [
    {
     "name": "stdout",
     "output_type": "stream",
     "text": [
      "car.n.01\n",
      "Synset('car.n.01')\n"
     ]
    },
    {
     "data": {
      "image/png": "[encoded data removed]",
      "text/plain": [
       "<Figure size 1296x864 with 1 Axes>"
      ]
     },
     "metadata": {},
     "output_type": "display_data"
    }
   ],
   "source": [
    "print(ss[0].name())\n",
    "G, labels = closure_graph(ss[0], fn = lambda s: s.hypernyms())\n",
    "draw_text_graph(G, labels)"
   ]
  },
  {
   "cell_type": "markdown",
   "metadata": {
    "colab_type": "text",
    "id": "G2qP9jdgM1hn"
   },
   "source": [
    "## Similitud Semántica\n"
   ]
  },
  {
   "cell_type": "code",
   "execution_count": 83,
   "metadata": {
    "colab": {},
    "colab_type": "code",
    "id": "JOVw0Lf5Mgyv"
   },
   "outputs": [],
   "source": [
    "def show_syns(word):\n",
    "  ss = wn.synsets(word, lang='spa')\n",
    "  for syn in ss:\n",
    "    print(syn.name(), ': ', syn.definition())\n",
    "    for name in syn.lemma_names():\n",
    "      print(' * ', name)\n",
    "  return ss"
   ]
  },
  {
   "cell_type": "markdown",
   "metadata": {},
   "source": [
    "**lemma_names():** nos da sinónimos de para un synset en concreto. Y **wn.synsets():** nos da los synsets relacionados con una palabra."
   ]
  },
  {
   "cell_type": "code",
   "execution_count": 84,
   "metadata": {
    "colab": {
     "base_uri": "https://localhost:8080/",
     "height": 343
    },
    "colab_type": "code",
    "executionInfo": {
     "elapsed": 28367,
     "status": "ok",
     "timestamp": 1582724847033,
     "user": {
      "displayName": "Francisco Camacho",
      "photoUrl": "https://lh3.googleusercontent.com/a-/AAuE7mCUaNNj72-A-ZLpzeOCw1kooH47L4wGZaSy6fUG=s64",
      "userId": "03320326049189164988"
     },
     "user_tz": 300
    },
    "id": "bzT0cnxJQT5y",
    "outputId": "59568900-2bd0-456f-b281-cfa8b2990fdf"
   },
   "outputs": [
    {
     "name": "stdout",
     "output_type": "stream",
     "text": [
      "dog.n.01 :  a member of the genus Canis (probably descended from the common wolf) that has been domesticated by man since prehistoric times; occurs in many breeds\n",
      " *  dog\n",
      " *  domestic_dog\n",
      " *  Canis_familiaris\n",
      "rotter.n.01 :  a person who is deemed to be despicable or contemptible\n",
      " *  rotter\n",
      " *  dirty_dog\n",
      " *  rat\n",
      " *  skunk\n",
      " *  stinker\n",
      " *  stinkpot\n",
      " *  bum\n",
      " *  puke\n",
      " *  crumb\n",
      " *  lowlife\n",
      " *  scum_bag\n",
      " *  so-and-so\n",
      " *  git\n"
     ]
    }
   ],
   "source": [
    "ss = show_syns('perro')"
   ]
  },
  {
   "cell_type": "code",
   "execution_count": 85,
   "metadata": {
    "colab": {
     "base_uri": "https://localhost:8080/",
     "height": 187
    },
    "colab_type": "code",
    "executionInfo": {
     "elapsed": 28273,
     "status": "ok",
     "timestamp": 1582724847039,
     "user": {
      "displayName": "Francisco Camacho",
      "photoUrl": "https://lh3.googleusercontent.com/a-/AAuE7mCUaNNj72-A-ZLpzeOCw1kooH47L4wGZaSy6fUG=s64",
      "userId": "03320326049189164988"
     },
     "user_tz": 300
    },
    "id": "LV6ByntzQreJ",
    "outputId": "9df94578-cded-4940-c027-0970d58a3f45"
   },
   "outputs": [
    {
     "name": "stdout",
     "output_type": "stream",
     "text": [
      "cat.n.01 :  feline mammal usually having thick soft fur and no ability to roar: domestic cats; wildcats\n",
      " *  cat\n",
      " *  true_cat\n",
      "tom.n.02 :  male cat\n",
      " *  tom\n",
      " *  tomcat\n",
      "dodger.n.01 :  a shifty deceptive person\n",
      " *  dodger\n",
      " *  fox\n",
      " *  slyboots\n"
     ]
    }
   ],
   "source": [
    "ss2 = show_syns('gato')"
   ]
  },
  {
   "cell_type": "code",
   "execution_count": 86,
   "metadata": {
    "colab": {
     "base_uri": "https://localhost:8080/",
     "height": 476
    },
    "colab_type": "code",
    "executionInfo": {
     "elapsed": 28207,
     "status": "ok",
     "timestamp": 1582724847044,
     "user": {
      "displayName": "Francisco Camacho",
      "photoUrl": "https://lh3.googleusercontent.com/a-/AAuE7mCUaNNj72-A-ZLpzeOCw1kooH47L4wGZaSy6fUG=s64",
      "userId": "03320326049189164988"
     },
     "user_tz": 300
    },
    "id": "2DoHzNxHRfpK",
    "outputId": "f48c21aa-f3a4-4cf3-f20c-84e37862e329"
   },
   "outputs": [
    {
     "name": "stdout",
     "output_type": "stream",
     "text": [
      "animal.n.01 :  a living organism characterized by voluntary movement\n",
      " *  animal\n",
      " *  animate_being\n",
      " *  beast\n",
      " *  brute\n",
      " *  creature\n",
      " *  fauna\n",
      "beast.n.02 :  a cruelly rapacious person\n",
      " *  beast\n",
      " *  wolf\n",
      " *  savage\n",
      " *  brute\n",
      " *  wildcat\n",
      "dunce.n.01 :  a stupid person; these words are used to express a low opinion of someone's intelligence\n",
      " *  dunce\n",
      " *  dunderhead\n",
      " *  numskull\n",
      " *  blockhead\n",
      " *  bonehead\n",
      " *  lunkhead\n",
      " *  hammerhead\n",
      " *  knucklehead\n",
      " *  loggerhead\n",
      " *  muttonhead\n",
      " *  shithead\n",
      " *  dumbass\n",
      " *  fuckhead\n"
     ]
    }
   ],
   "source": [
    "ss3 = show_syns('animal')"
   ]
  },
  {
   "cell_type": "markdown",
   "metadata": {},
   "source": [
    "Hay que darle contexto para hacer comparaciones de similitud semántica entre synsets, empleamos perro y gato como mascotas y animal como un ser humano: "
   ]
  },
  {
   "cell_type": "code",
   "execution_count": 87,
   "metadata": {
    "colab": {},
    "colab_type": "code",
    "id": "5T1T9eLkQtx4"
   },
   "outputs": [],
   "source": [
    "perro = ss[0]\n",
    "gato = ss2[0]\n",
    "animal = ss3[0]"
   ]
  },
  {
   "cell_type": "code",
   "execution_count": 88,
   "metadata": {
    "colab": {
     "base_uri": "https://localhost:8080/",
     "height": 34
    },
    "colab_type": "code",
    "executionInfo": {
     "elapsed": 28115,
     "status": "ok",
     "timestamp": 1582724847047,
     "user": {
      "displayName": "Francisco Camacho",
      "photoUrl": "https://lh3.googleusercontent.com/a-/AAuE7mCUaNNj72-A-ZLpzeOCw1kooH47L4wGZaSy6fUG=s64",
      "userId": "03320326049189164988"
     },
     "user_tz": 300
    },
    "id": "7iS-e7cKRnqk",
    "outputId": "870e4241-14d4-4d80-b991-99f06540c7d1"
   },
   "outputs": [
    {
     "data": {
      "text/plain": [
       "0.3333333333333333"
      ]
     },
     "execution_count": 88,
     "metadata": {},
     "output_type": "execute_result"
    }
   ],
   "source": [
    "# similitud entre 'animal' y 'perro'\n",
    "animal.path_similarity(perro)"
   ]
  },
  {
   "cell_type": "code",
   "execution_count": 89,
   "metadata": {
    "colab": {
     "base_uri": "https://localhost:8080/",
     "height": 34
    },
    "colab_type": "code",
    "executionInfo": {
     "elapsed": 28053,
     "status": "ok",
     "timestamp": 1582724847051,
     "user": {
      "displayName": "Francisco Camacho",
      "photoUrl": "https://lh3.googleusercontent.com/a-/AAuE7mCUaNNj72-A-ZLpzeOCw1kooH47L4wGZaSy6fUG=s64",
      "userId": "03320326049189164988"
     },
     "user_tz": 300
    },
    "id": "2ROB6Dm7RrS1",
    "outputId": "bd09f120-53f6-492b-97af-ec11cb44c490"
   },
   "outputs": [
    {
     "data": {
      "text/plain": [
       "0.125"
      ]
     },
     "execution_count": 89,
     "metadata": {},
     "output_type": "execute_result"
    }
   ],
   "source": [
    "# similitud entre 'animal' y 'gato'\n",
    "animal.path_similarity(gato)"
   ]
  },
  {
   "cell_type": "code",
   "execution_count": 90,
   "metadata": {
    "colab": {
     "base_uri": "https://localhost:8080/",
     "height": 34
    },
    "colab_type": "code",
    "executionInfo": {
     "elapsed": 27991,
     "status": "ok",
     "timestamp": 1582724847052,
     "user": {
      "displayName": "Francisco Camacho",
      "photoUrl": "https://lh3.googleusercontent.com/a-/AAuE7mCUaNNj72-A-ZLpzeOCw1kooH47L4wGZaSy6fUG=s64",
      "userId": "03320326049189164988"
     },
     "user_tz": 300
    },
    "id": "5peF3kqGSBys",
    "outputId": "48cff834-efee-44e0-88bd-87fae4e5b31b"
   },
   "outputs": [
    {
     "data": {
      "text/plain": [
       "0.2"
      ]
     },
     "execution_count": 90,
     "metadata": {},
     "output_type": "execute_result"
    }
   ],
   "source": [
    "perro.path_similarity(gato)"
   ]
  },
  {
   "cell_type": "code",
   "execution_count": 91,
   "metadata": {
    "colab": {
     "base_uri": "https://localhost:8080/",
     "height": 34
    },
    "colab_type": "code",
    "executionInfo": {
     "elapsed": 27928,
     "status": "ok",
     "timestamp": 1582724847056,
     "user": {
      "displayName": "Francisco Camacho",
      "photoUrl": "https://lh3.googleusercontent.com/a-/AAuE7mCUaNNj72-A-ZLpzeOCw1kooH47L4wGZaSy6fUG=s64",
      "userId": "03320326049189164988"
     },
     "user_tz": 300
    },
    "id": "V6-BLiSPSFEA",
    "outputId": "960bc4f5-e4e2-434e-bd06-c36c1b4b7d4b"
   },
   "outputs": [
    {
     "data": {
      "text/plain": [
       "1.0"
      ]
     },
     "execution_count": 91,
     "metadata": {},
     "output_type": "execute_result"
    }
   ],
   "source": [
    "perro.path_similarity(perro)"
   ]
  },
  {
   "cell_type": "markdown",
   "metadata": {},
   "source": [
    "En lenguaje español (también inglés en este caso), **la palabra animal esta semánticamente más cerca de la palabra perro que la palabra gato**"
   ]
  },
  {
   "cell_type": "code",
   "execution_count": 92,
   "metadata": {
    "colab": {},
    "colab_type": "code",
    "id": "rC5pwpNkUw8D"
   },
   "outputs": [],
   "source": [
    "import matplotlib.pyplot as plt\n",
    "import networkx as nx\n",
    "\n",
    "def traverse(graph, start, node):\n",
    "  graph.depth[node.name] = node.shortest_path_distance(start)\n",
    "  for child in node.hyponyms():\n",
    "    graph.add_edge(node.name, child.name)\n",
    "    traverse(graph, start, child)\n",
    "\n",
    "def hyponym_graph(start):\n",
    "  G = nx.Graph()\n",
    "  G.depth = {}\n",
    "  traverse(G, start, start)\n",
    "  return G\n",
    "\n",
    "def graph_draw(graph):\n",
    "  nx.draw_networkx(graph, \n",
    "                   node_size = [16*graph.degree(n) for n in graph], \n",
    "                   node_color = [graph.depth[n] for n in graph], \n",
    "                   with_labels = True)\n",
    "  plt.show()"
   ]
  },
  {
   "cell_type": "code",
   "execution_count": 95,
   "metadata": {
    "colab": {
     "base_uri": "https://localhost:8080/",
     "height": 317
    },
    "colab_type": "code",
    "executionInfo": {
     "elapsed": 423,
     "status": "error",
     "timestamp": 1582725209492,
     "user": {
      "displayName": "Francisco Camacho",
      "photoUrl": "https://lh3.googleusercontent.com/a-/AAuE7mCUaNNj72-A-ZLpzeOCw1kooH47L4wGZaSy6fUG=s64",
      "userId": "03320326049189164988"
     },
     "user_tz": 300
    },
    "id": "WUVAejkOxTdb",
    "outputId": "b92e7f72-3107-416a-8c24-a8d4a7dbb61b"
   },
   "outputs": [
    {
     "data": {
      "image/png": "[encoded data removed]",
      "text/plain": [
       "<Figure size 432x288 with 1 Axes>"
      ]
     },
     "metadata": {},
     "output_type": "display_data"
    }
   ],
   "source": [
    "dog = wn.synset('dog.n.01')\n",
    "graph = hyponym_graph(dog)\n",
    "graph_draw(graph)"
   ]
  },
  {
   "cell_type": "code",
   "execution_count": 0,
   "metadata": {
    "colab": {},
    "colab_type": "code",
    "id": "_ZSpVuemxcOr"
   },
   "outputs": [],
   "source": []
  }
 ],
 "metadata": {
  "colab": {
   "authorship_tag": "ABX9TyOV3/KuEED7D513TqGOgh5j",
   "name": "[C6]_Lexical_Resources.ipynb",
   "provenance": []
  },
  "kernelspec": {
   "display_name": "Python 3 (ipykernel)",
   "language": "python",
   "name": "python3"
  },
  "language_info": {
   "codemirror_mode": {
    "name": "ipython",
    "version": 3
   },
   "file_extension": ".py",
   "mimetype": "text/x-python",
   "name": "python",
   "nbconvert_exporter": "python",
   "pygments_lexer": "ipython3",
   "version": "3.9.6"
  }
 },
 "nbformat": 4,
 "nbformat_minor": 1
}
